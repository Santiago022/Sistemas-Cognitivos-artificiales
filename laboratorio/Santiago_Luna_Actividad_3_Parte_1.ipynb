{
 "cells": [
  {
   "cell_type": "markdown",
   "metadata": {
    "colab_type": "text",
    "id": "Ic4_occAAiAT"
   },
   "source": [
    "# Primera parte: Clasificación de textos"
   ]
  },
  {
   "cell_type": "markdown",
   "metadata": {
    "colab_type": "text",
    "id": "Eg62Pmz3o83v"
   },
   "source": [
    "En esta parte, utilizaremos **embeddings** para resolver un problema de clasificación de texto. Los embeddings, representaciones distribuidas y vectoriales de elementos, son un concepto muy común en el mundo del deep learning. Los **word vectors** que hemos visto en clase son una representación en forma de embedding de las palabras.\n",
    "\n",
    "Para realizar este trabajo y sacarle el máximo partido, se recomienda ver los siguientes vídeos de clase:\n",
    "\n",
    "*   Clasificación de texto con Word Vectors.\n",
    "*   Análisis de overfitting con un modelo bag of words.\n",
    "*   Clasificación de texto con RNN\n",
    "\n",
    "Vamos a utilizar el dataset **\"Reuters newswire topics classification\"**, disponible desde Keras de manera similar al dataset de IMDB ([ver documentación](https://keras.io/datasets/#reuters-newswire-topics-classification)).\n",
    "\n",
    "---\n",
    "\n",
    "Se pide:\n",
    "\n",
    "Entrenar un modelo **utilizando embeddings** que consiga un **65% de accuracy en test (55% si usamos RNNs)**, mostrando el entrenamiento y el resultado final.\n",
    " \n",
    "Tenemos varias opciones para entrenar modelos con embeddings. El alumno puede explorar más de una pero es suficiente con conseguir un modelo que alcance la accuracy requerida:\n",
    "\n",
    "*   Utilizar una **media de embeddings** al estilo de lo visto en el vídeo *Clasificación de texto con Word Vectors*\n",
    "*   Utilizar una **CNN** sobre una secuencia de word vectors. Aquí necesitamos cambiar un poco la idea de convolución para actuar sobre sequencias de vectores. Keras incluye una [Convolución en 1D](https://keras.io/layers/convolutional/#conv1d) que puede ser utilizada en este caso, con un ejemplo de uso en la documentación. Una forma de hacer funcionar este esquema sería utilizar la convolución en 1D + max pooling.\n",
    "*  Utilizar una **RNN** sobre una secuencia de word vectors, al estilo de lo visto en el vídeo *Clasificación de texto con RNN*. Para este problema es un poco complicado conseguir un buen modelo con RNNs, y además es más difícil experimentar ya que las redes recurrentes son modelos lentos de entrenar. Por eso, es suficiente con alcanzar un 55% de accuracy si optamos por utilizar un modelo de este estilo. Un buen consejo es emplear una red recurrente bidireccional como se ve en el vídeo *Clasificación de texto con RNN*.\n",
    "\n",
    "\n",
    "\n",
    "---\n",
    "\n",
    "Dos hiperparámetros importantes a elegir en el modelo son la **longitud de las secuencias de texto** y el **tamaño del vocabulario** para los embeddings. Podéis experimentar con ambos, o utilizar los mismos que se usan en los vídeos. Nótese que, al cortar todas las secuencias para que tengan el mismo tamaño, podríamos estar perdiendo mucho texto si elegimos un tamaño de secuencia demasiado pequeño. Igualmente, si las hacemos muy largas necesitaremos más tiempo para entrenar nuestros modelos. Una buena idea consiste en explorar los datos para ver cómo suelen ser de largos los textos y encontrar un buen trade-off para el tamaño de al secuencia.\n",
    "\n",
    "\n",
    "\n",
    "---\n",
    "\n",
    "Los embeddings que hemos visto en los vídeos se entrenan junto al modelo.  Una técnica frecuente es inicializar estos embeddings con word-vectors pre-entrenados en un gran corpus de texto, como hemos visto en clase. Esto puede ayudar ya que nuestro modelo empieza con unos embeddings que ya encapsulan significado. Si bien no es necesario para esta práctica, podéis ver cómo usar esta técnica [en el siguiente tutorial](https://blog.keras.io/using-pre-trained-word-embeddings-in-a-keras-model.html).\n",
    "\n",
    "\n"
   ]
  },
  {
   "cell_type": "code",
   "execution_count": 1,
   "metadata": {
    "colab": {},
    "colab_type": "code",
    "id": "2ew7HTbPpCJH"
   },
   "outputs": [
    {
     "name": "stdout",
     "output_type": "stream",
     "text": [
      "Downloading data from https://storage.googleapis.com/tensorflow/tf-keras-datasets/reuters.npz\n",
      "2113536/2110848 [==============================] - 1s 1us/step\n",
      "Training entries: 8982, Test entries: 2246\n",
      "Average length es 145.5398574927633\n",
      "Max length es 2376\n",
      "Median length es 95.0\n"
     ]
    }
   ],
   "source": [
    "import tensorflow as tf\n",
    "from tensorflow import keras\n",
    "\n",
    "import numpy as np\n",
    "\n",
    "reuters = keras.datasets.reuters\n",
    "\n",
    "VOCAB_SIZE = 10000\n",
    "\n",
    "#11228 noticias en total\n",
    "(train_data, train_labels), (test_data, test_labels) = reuters.load_data(num_words=VOCAB_SIZE)\n",
    "print(\"Training entries: {}, Test entries: {}\".format(len(train_data), len(test_data)))\n",
    "\n",
    "# Tamaños de los textos para determinar longitud de las secuencias a usar\n",
    "lengths = [len(x) for x in train_data]\n",
    "print(\"Average length es {}\".format(np.mean(lengths)))\n",
    "print(\"Max length es {}\".format(max(lengths)))\n",
    "print(\"Median length es {}\".format(np.percentile(lengths, 50)))\n",
    "\n",
    "SEQUENCE_LENGTH = 150"
   ]
  },
  {
   "cell_type": "code",
   "execution_count": 3,
   "metadata": {},
   "outputs": [
    {
     "name": "stdout",
     "output_type": "stream",
     "text": [
      "Downloading data from https://storage.googleapis.com/tensorflow/tf-keras-datasets/reuters_word_index.json\n",
      "557056/550378 [==============================] - 1s 1us/step\n"
     ]
    }
   ],
   "source": [
    "#Un diccionario que asigna palabras a un índice entero.\n",
    "word_index = reuters.get_word_index()\n",
    "\n",
    "#Los primeros índices son reservados. \n",
    "#Asignamos un valor para inicio de cadena, stra. A nuestro word index le estamos añadiendo estos tokens especiales\n",
    "\n",
    "word_index = {k:(v+3) for k,v in word_index.items()}\n",
    "word_index[\"<PAD>\"] = 0 \n",
    "word_index[\"<START>\"] = 1 \n",
    "word_index[\"<UNK>\"] = 2 #No conocido\n",
    "word_index[\"<UNUSED>\"] = 3\n",
    "\n",
    "#Si sabemos un índice podemos saber la palabra. \n",
    "\n",
    "reverse_word_index = dict([(value,key) for (key,value) in word_index.items()])\n",
    "\n",
    "def decode_review(text):\n",
    "    return ''.join([reverse_word_index.get(i, '?') for i in text])"
   ]
  },
  {
   "cell_type": "code",
   "execution_count": 5,
   "metadata": {},
   "outputs": [
    {
     "data": {
      "text/plain": [
       "'<START>generaledebanquesalt<UNK>brandlthelleroverseascorpofchicagohaveeachtaken50pctstakesin<UNK>companysa<UNK>factorsgeneraledebanquesaidinastatementitgavenofinancialdetailsofthetransactionsa<UNK><UNK>turnoverin1986was175billionbelgianfrancsreuter3'"
      ]
     },
     "execution_count": 5,
     "metadata": {},
     "output_type": "execute_result"
    }
   ],
   "source": [
    "decode_review(train_data[1])"
   ]
  },
  {
   "cell_type": "code",
   "execution_count": 20,
   "metadata": {},
   "outputs": [
    {
     "name": "stdout",
     "output_type": "stream",
     "text": [
      "8982\n"
     ]
    }
   ],
   "source": [
    "print(len(train_data))"
   ]
  },
  {
   "cell_type": "code",
   "execution_count": 24,
   "metadata": {},
   "outputs": [],
   "source": [
    "tamanos = [len(train_data[x]) for x in range(len(train_data))]"
   ]
  },
  {
   "cell_type": "code",
   "execution_count": 39,
   "metadata": {},
   "outputs": [
    {
     "name": "stdout",
     "output_type": "stream",
     "text": [
      "media :  145.5398574927633 \n",
      "Desvisacion standar :  145.82224783097502 \n",
      "Valor maximo :  2376 \n",
      "Valor minimo : 13\n",
      "intervalo confizanza u + 1std  (68.27 %)  291.3621053237383\n",
      "intervalo confizanza u + 2std  (95.45 %)  437.18435315471334\n",
      "intervalo confizanza u + 3std  (99.73 %)  583.0066009856884\n"
     ]
    }
   ],
   "source": [
    "import statistics as st\n",
    "print(\"media : \", st.mean(tamanos), \"\\nDesvisacion standar : \", st.stdev(tamanos),\"\\nValor maximo : \",max(tamanos), \"\\nValor minimo :\" , min(tamanos))\n",
    "print(\"intervalo confizanza u + 1std  (68.27 %) \", st.mean(tamanos) + st.stdev(tamanos))\n",
    "print(\"intervalo confizanza u + 2std  (95.45 %) \", st.mean(tamanos) + 2*st.stdev(tamanos))\n",
    "print(\"intervalo confizanza u + 3std  (99.73 %) \", st.mean(tamanos) + 3*st.stdev(tamanos))"
   ]
  },
  {
   "cell_type": "markdown",
   "metadata": {},
   "source": [
    "En base a la regla empirica, observando el histograma de distribucion de las longitudes de las secuencias de los textos, he decidio por optar utilizar una ventana de valor :\n",
    "\n",
    "1 media + 2 desviciaciones Standar = 145.82+ 2* 145*8224 = 437"
   ]
  },
  {
   "cell_type": "code",
   "execution_count": 40,
   "metadata": {},
   "outputs": [],
   "source": [
    "train_data = keras.preprocessing. sequence.pad_sequences(train_data, \n",
    "                                                        value=word_index[\"<PAD>\"], \n",
    "                                                        padding='post', \n",
    "                                                        maxlen=437)\n",
    "\n",
    "test_data = keras.preprocessing. sequence.pad_sequences(test_data, \n",
    "                                                        value=word_index[\"<PAD>\"], \n",
    "                                                        padding='post', \n",
    "                                                        maxlen=437)"
   ]
  },
  {
   "cell_type": "code",
   "execution_count": 49,
   "metadata": {},
   "outputs": [
    {
     "name": "stdout",
     "output_type": "stream",
     "text": [
      "437 437\n",
      "4\n"
     ]
    }
   ],
   "source": [
    "print(len(train_data[0]), len(train_data[2]))"
   ]
  },
  {
   "cell_type": "code",
   "execution_count": 197,
   "metadata": {},
   "outputs": [
    {
     "data": {
      "text/plain": [
       "(8982, 437)"
      ]
     },
     "execution_count": 197,
     "metadata": {},
     "output_type": "execute_result"
    }
   ],
   "source": [
    "train_data.shape"
   ]
  },
  {
   "cell_type": "code",
   "execution_count": 54,
   "metadata": {},
   "outputs": [
    {
     "data": {
      "text/plain": [
       "45"
      ]
     },
     "execution_count": 54,
     "metadata": {},
     "output_type": "execute_result"
    }
   ],
   "source": [
    "train_labels.max()\n",
    "test_labels.max()"
   ]
  },
  {
   "cell_type": "code",
   "execution_count": 156,
   "metadata": {},
   "outputs": [
    {
     "name": "stdout",
     "output_type": "stream",
     "text": [
      "Model: \"sequential_19\"\n",
      "_________________________________________________________________\n",
      "Layer (type)                 Output Shape              Param #   \n",
      "=================================================================\n",
      "embedding_19 (Embedding)     (None, None, 32)          1600000   \n",
      "_________________________________________________________________\n",
      "global_average_pooling1d_18  (None, 32)                0         \n",
      "_________________________________________________________________\n",
      "dense_34 (Dense)             (None, 16)                528       \n",
      "_________________________________________________________________\n",
      "dense_35 (Dense)             (None, 46)                782       \n",
      "=================================================================\n",
      "Total params: 1,601,310\n",
      "Trainable params: 1,601,310\n",
      "Non-trainable params: 0\n",
      "_________________________________________________________________\n"
     ]
    }
   ],
   "source": [
    "#la forma de entrada es el recuento de vocabulario utilizado para las reseñas de películas\n",
    "vocab_size = 50000\n",
    "\n",
    "model = keras.Sequential()\n",
    "#una capa de embedding de los 10000 que tenemos en el vocabulario con un tamaño de 16. \n",
    "#Por cada elemento de entrada nos de un word embedding de 16 elementos. \n",
    "#256 vectores de 16 elementos \n",
    "\n",
    "model.add(keras.layers.Embedding(vocab_size,32)) \n",
    "#Como son muchos elementos vamos a crear la medio de los word_embeddings\n",
    "model.add(keras.layers.GlobalAveragePooling1D())\n",
    "#Ahora si, una capa densa con relu\n",
    "model.add(keras.layers.Dense(16, activation=tf.nn.relu))\n",
    "#Una última capa que tiene 1 elemento. La sigmoid se identifica más con una probabilidad.\n",
    "model.add(keras.layers.Dense(46, activation='softmax'))\n",
    "\n",
    "model.summary()"
   ]
  },
  {
   "cell_type": "code",
   "execution_count": 157,
   "metadata": {},
   "outputs": [],
   "source": [
    "model.compile(optimizer='adam', \n",
    "             loss='sparse_categorical_crossentropy', #la misma función de pérdida que CategoricalCrossentropy pero para problemas de dos clases\n",
    "             metrics=['accuracy'])"
   ]
  },
  {
   "cell_type": "code",
   "execution_count": 158,
   "metadata": {},
   "outputs": [],
   "source": [
    "x_val=train_data[:int(len(train_data)*0.8)] #datos de validación \n",
    "partial_x_train = train_data[int(len(train_data)*0.8):] \n",
    "\n",
    "y_val = train_labels[:int(len(train_data)*0.8)]\n",
    "partial_y_train = train_labels[int(len(train_data)*0.8):]"
   ]
  },
  {
   "cell_type": "code",
   "execution_count": 159,
   "metadata": {},
   "outputs": [
    {
     "data": {
      "text/plain": [
       "7185"
      ]
     },
     "execution_count": 159,
     "metadata": {},
     "output_type": "execute_result"
    }
   ],
   "source": [
    "int(len(train_data)*0.8)"
   ]
  },
  {
   "cell_type": "code",
   "execution_count": 199,
   "metadata": {},
   "outputs": [
    {
     "data": {
      "text/plain": [
       "array([   1,   53,  147,   26,   14,  365,   26,   39,   32,  451,   18,\n",
       "         14,   32,  251,   18,   86,   63,  315,   18,   14,   72,  639,\n",
       "         18,  151,  230,   53,  948,   26,   14,  924,   26,   39,   59,\n",
       "        980,   18,   14,   47,  698,   18,   86,  318,   72, 2128,   14,\n",
       "        147,   12, 2128,   17,   12,    0,    0,    0,    0,    0,    0,\n",
       "          0,    0,    0,    0,    0,    0,    0,    0,    0,    0,    0,\n",
       "          0,    0,    0,    0,    0,    0,    0,    0,    0,    0,    0,\n",
       "          0,    0,    0,    0,    0,    0,    0,    0,    0,    0,    0,\n",
       "          0,    0,    0,    0,    0,    0,    0,    0,    0,    0,    0,\n",
       "          0,    0,    0,    0,    0,    0,    0,    0,    0,    0,    0,\n",
       "          0,    0,    0,    0,    0,    0,    0,    0,    0,    0,    0,\n",
       "          0,    0,    0,    0,    0,    0,    0,    0,    0,    0,    0,\n",
       "          0,    0,    0,    0,    0,    0,    0,    0,    0,    0,    0,\n",
       "          0,    0,    0,    0,    0,    0,    0,    0,    0,    0,    0,\n",
       "          0,    0,    0,    0,    0,    0,    0,    0,    0,    0,    0,\n",
       "          0,    0,    0,    0,    0,    0,    0,    0,    0,    0,    0,\n",
       "          0,    0,    0,    0,    0,    0,    0,    0,    0,    0,    0,\n",
       "          0,    0,    0,    0,    0,    0,    0,    0,    0,    0,    0,\n",
       "          0,    0,    0,    0,    0,    0,    0,    0,    0,    0,    0,\n",
       "          0,    0,    0,    0,    0,    0,    0,    0,    0,    0,    0,\n",
       "          0,    0,    0,    0,    0,    0,    0,    0,    0,    0,    0,\n",
       "          0,    0,    0,    0,    0,    0,    0,    0,    0,    0,    0,\n",
       "          0,    0,    0,    0,    0,    0,    0,    0,    0,    0,    0,\n",
       "          0,    0,    0,    0,    0,    0,    0,    0,    0,    0,    0,\n",
       "          0,    0,    0,    0,    0,    0,    0,    0,    0,    0,    0,\n",
       "          0,    0,    0,    0,    0,    0,    0,    0,    0,    0,    0,\n",
       "          0,    0,    0,    0,    0,    0,    0,    0,    0,    0,    0,\n",
       "          0,    0,    0,    0,    0,    0,    0,    0,    0,    0,    0,\n",
       "          0,    0,    0,    0,    0,    0,    0,    0,    0,    0,    0,\n",
       "          0,    0,    0,    0,    0,    0,    0,    0,    0,    0,    0,\n",
       "          0,    0,    0,    0,    0,    0,    0,    0,    0,    0,    0,\n",
       "          0,    0,    0,    0,    0,    0,    0,    0,    0,    0,    0,\n",
       "          0,    0,    0,    0,    0,    0,    0,    0,    0,    0,    0,\n",
       "          0,    0,    0,    0,    0,    0,    0,    0,    0,    0,    0,\n",
       "          0,    0,    0,    0,    0,    0,    0,    0,    0,    0,    0,\n",
       "          0,    0,    0,    0,    0,    0,    0,    0,    0,    0,    0,\n",
       "          0,    0,    0,    0,    0,    0,    0,    0,    0,    0,    0,\n",
       "          0,    0,    0,    0,    0,    0,    0,    0,    0,    0,    0,\n",
       "          0,    0,    0,    0,    0,    0,    0,    0,    0,    0,    0,\n",
       "          0,    0,    0,    0,    0,    0,    0,    0])"
      ]
     },
     "execution_count": 199,
     "metadata": {},
     "output_type": "execute_result"
    }
   ],
   "source": []
  },
  {
   "cell_type": "code",
   "execution_count": 160,
   "metadata": {
    "scrolled": true
   },
   "outputs": [
    {
     "name": "stdout",
     "output_type": "stream",
     "text": [
      "Train on 1797 samples, validate on 7185 samples\n",
      "Epoch 1/40\n",
      "1797/1797 [==============================] - 2s 851us/sample - loss: 3.7967 - accuracy: 0.2922 - val_loss: 3.7495 - val_accuracy: 0.3534\n",
      "Epoch 2/40\n",
      "1797/1797 [==============================] - 1s 496us/sample - loss: 3.6824 - accuracy: 0.3450 - val_loss: 3.5861 - val_accuracy: 0.3534\n",
      "Epoch 3/40\n",
      "1797/1797 [==============================] - 1s 503us/sample - loss: 3.4441 - accuracy: 0.3450 - val_loss: 3.2394 - val_accuracy: 0.3534\n",
      "Epoch 4/40\n",
      "1797/1797 [==============================] - 1s 519us/sample - loss: 2.9834 - accuracy: 0.3450 - val_loss: 2.7000 - val_accuracy: 0.3534\n",
      "Epoch 5/40\n",
      "1797/1797 [==============================] - 1s 472us/sample - loss: 2.5063 - accuracy: 0.3450 - val_loss: 2.3978 - val_accuracy: 0.3534\n",
      "Epoch 6/40\n",
      "1797/1797 [==============================] - 1s 476us/sample - loss: 2.3548 - accuracy: 0.3450 - val_loss: 2.3577 - val_accuracy: 0.3534\n",
      "Epoch 7/40\n",
      "1797/1797 [==============================] - 1s 528us/sample - loss: 2.3260 - accuracy: 0.3450 - val_loss: 2.3411 - val_accuracy: 0.3534\n",
      "Epoch 8/40\n",
      "1797/1797 [==============================] - 1s 538us/sample - loss: 2.3076 - accuracy: 0.3450 - val_loss: 2.3243 - val_accuracy: 0.3534\n",
      "Epoch 9/40\n",
      "1797/1797 [==============================] - 1s 538us/sample - loss: 2.2912 - accuracy: 0.3450 - val_loss: 2.3102 - val_accuracy: 0.3534\n",
      "Epoch 10/40\n",
      "1797/1797 [==============================] - 1s 600us/sample - loss: 2.2738 - accuracy: 0.3450 - val_loss: 2.2960 - val_accuracy: 0.3539\n",
      "Epoch 11/40\n",
      "1797/1797 [==============================] - 1s 506us/sample - loss: 2.2576 - accuracy: 0.3472 - val_loss: 2.2819 - val_accuracy: 0.3594\n",
      "Epoch 12/40\n",
      "1797/1797 [==============================] - 1s 554us/sample - loss: 2.2397 - accuracy: 0.3561 - val_loss: 2.2639 - val_accuracy: 0.3619\n",
      "Epoch 13/40\n",
      "1797/1797 [==============================] - 1s 522us/sample - loss: 2.2175 - accuracy: 0.3584 - val_loss: 2.2450 - val_accuracy: 0.3674\n",
      "Epoch 14/40\n",
      "1797/1797 [==============================] - 1s 512us/sample - loss: 2.1914 - accuracy: 0.3673 - val_loss: 2.2202 - val_accuracy: 0.3705\n",
      "Epoch 15/40\n",
      "1797/1797 [==============================] - 1s 490us/sample - loss: 2.1627 - accuracy: 0.3734 - val_loss: 2.1952 - val_accuracy: 0.3839\n",
      "Epoch 16/40\n",
      "1797/1797 [==============================] - 1s 499us/sample - loss: 2.1304 - accuracy: 0.3873 - val_loss: 2.1696 - val_accuracy: 0.3922\n",
      "Epoch 17/40\n",
      "1797/1797 [==============================] - 1s 539us/sample - loss: 2.0974 - accuracy: 0.3996 - val_loss: 2.1424 - val_accuracy: 0.3936\n",
      "Epoch 18/40\n",
      "1797/1797 [==============================] - 1s 499us/sample - loss: 2.0654 - accuracy: 0.4107 - val_loss: 2.1169 - val_accuracy: 0.4127\n",
      "Epoch 19/40\n",
      "1797/1797 [==============================] - 1s 509us/sample - loss: 2.0333 - accuracy: 0.4168 - val_loss: 2.0932 - val_accuracy: 0.4163\n",
      "Epoch 20/40\n",
      "1797/1797 [==============================] - 1s 548us/sample - loss: 2.0034 - accuracy: 0.4368 - val_loss: 2.0721 - val_accuracy: 0.4397\n",
      "Epoch 21/40\n",
      "1797/1797 [==============================] - 1s 495us/sample - loss: 1.9748 - accuracy: 0.4591 - val_loss: 2.0502 - val_accuracy: 0.4418\n",
      "Epoch 22/40\n",
      "1797/1797 [==============================] - 1s 473us/sample - loss: 1.9467 - accuracy: 0.4580 - val_loss: 2.0303 - val_accuracy: 0.4650\n",
      "Epoch 23/40\n",
      "1797/1797 [==============================] - 1s 520us/sample - loss: 1.9200 - accuracy: 0.4864 - val_loss: 2.0100 - val_accuracy: 0.4628\n",
      "Epoch 24/40\n",
      "1797/1797 [==============================] - 1s 511us/sample - loss: 1.8948 - accuracy: 0.4936 - val_loss: 1.9920 - val_accuracy: 0.4637\n",
      "Epoch 25/40\n",
      "1797/1797 [==============================] - 1s 534us/sample - loss: 1.8699 - accuracy: 0.4953 - val_loss: 1.9716 - val_accuracy: 0.4842\n",
      "Epoch 26/40\n",
      "1797/1797 [==============================] - 1s 568us/sample - loss: 1.8440 - accuracy: 0.5147 - val_loss: 1.9558 - val_accuracy: 0.5044\n",
      "Epoch 27/40\n",
      "1797/1797 [==============================] - 1s 504us/sample - loss: 1.8201 - accuracy: 0.5337 - val_loss: 1.9381 - val_accuracy: 0.5101\n",
      "Epoch 28/40\n",
      "1797/1797 [==============================] - 1s 491us/sample - loss: 1.7963 - accuracy: 0.5320 - val_loss: 1.9209 - val_accuracy: 0.5211\n",
      "Epoch 29/40\n",
      "1797/1797 [==============================] - 1s 509us/sample - loss: 1.7732 - accuracy: 0.5442 - val_loss: 1.9059 - val_accuracy: 0.5112\n",
      "Epoch 30/40\n",
      "1797/1797 [==============================] - 1s 493us/sample - loss: 1.7523 - accuracy: 0.5465 - val_loss: 1.8905 - val_accuracy: 0.5205\n",
      "Epoch 31/40\n",
      "1797/1797 [==============================] - 1s 474us/sample - loss: 1.7306 - accuracy: 0.5487 - val_loss: 1.8741 - val_accuracy: 0.5314\n",
      "Epoch 32/40\n",
      "1797/1797 [==============================] - 1s 472us/sample - loss: 1.7035 - accuracy: 0.5565 - val_loss: 1.8546 - val_accuracy: 0.5438\n",
      "Epoch 33/40\n",
      "1797/1797 [==============================] - 1s 479us/sample - loss: 1.6721 - accuracy: 0.5787 - val_loss: 1.8322 - val_accuracy: 0.5496\n",
      "Epoch 34/40\n",
      "1797/1797 [==============================] - 1s 502us/sample - loss: 1.6422 - accuracy: 0.5810 - val_loss: 1.8107 - val_accuracy: 0.5530\n",
      "Epoch 35/40\n",
      "1797/1797 [==============================] - 1s 484us/sample - loss: 1.6128 - accuracy: 0.5893 - val_loss: 1.7915 - val_accuracy: 0.5559\n",
      "Epoch 36/40\n",
      "1797/1797 [==============================] - 1s 482us/sample - loss: 1.5846 - accuracy: 0.5949 - val_loss: 1.7685 - val_accuracy: 0.5602\n",
      "Epoch 37/40\n",
      "1797/1797 [==============================] - 1s 528us/sample - loss: 1.5538 - accuracy: 0.6032 - val_loss: 1.7515 - val_accuracy: 0.5672\n",
      "Epoch 38/40\n",
      "1797/1797 [==============================] - 1s 489us/sample - loss: 1.5248 - accuracy: 0.6099 - val_loss: 1.7345 - val_accuracy: 0.5747\n",
      "Epoch 39/40\n",
      "1797/1797 [==============================] - 1s 485us/sample - loss: 1.4998 - accuracy: 0.6227 - val_loss: 1.7192 - val_accuracy: 0.5804\n",
      "Epoch 40/40\n",
      "1797/1797 [==============================] - 1s 477us/sample - loss: 1.4731 - accuracy: 0.6260 - val_loss: 1.7068 - val_accuracy: 0.5928\n"
     ]
    }
   ],
   "source": [
    "history = model.fit(partial_x_train,\n",
    "                   partial_y_train,\n",
    "                   epochs=40, \n",
    "                   batch_size=64, \n",
    "                   validation_data=(x_val, y_val),\n",
    "                   verbose=1)"
   ]
  },
  {
   "cell_type": "code",
   "execution_count": 161,
   "metadata": {},
   "outputs": [
    {
     "name": "stdout",
     "output_type": "stream",
     "text": [
      "2246/2246 [==============================] - 0s 57us/sample - loss: 1.7172 - accuracy: 0.5877\n",
      "[1.7171732604450556, 0.5877115]\n"
     ]
    }
   ],
   "source": [
    "results = model.evaluate(test_data, test_labels)\n",
    "print(results)"
   ]
  },
  {
   "cell_type": "code",
   "execution_count": 162,
   "metadata": {},
   "outputs": [
    {
     "data": {
      "text/plain": [
       "dict_keys(['loss', 'accuracy', 'val_loss', 'val_accuracy'])"
      ]
     },
     "execution_count": 162,
     "metadata": {},
     "output_type": "execute_result"
    }
   ],
   "source": [
    "history_dict = history.history #A partir del objeto hystory lo guardamos para graficarlo\n",
    "history_dict.keys()"
   ]
  },
  {
   "cell_type": "code",
   "execution_count": 163,
   "metadata": {},
   "outputs": [
    {
     "data": {
      "image/png": "[encoded data removed]",
      "text/plain": [
       "<Figure size 432x288 with 1 Axes>"
      ]
     },
     "metadata": {
      "needs_background": "light"
     },
     "output_type": "display_data"
    }
   ],
   "source": [
    "#%matplotlib inline\n",
    "\n",
    "acc= history.history['accuracy']\n",
    "val_acc = history.history['val_accuracy']\n",
    "loss=history.history['loss']\n",
    "val_loss = history.history['val_loss']\n",
    "\n",
    "epochs = range(1, len(acc) +1)\n",
    "\n",
    "#bo is for blue dot\n",
    "plt.plot(epochs, loss, 'bo', label='Training loss')\n",
    "#b is for solid blue line\n",
    "plt.plot(epochs, val_loss, 'b', label='Validation loss')\n",
    "plt.title('Training and validation loss')\n",
    "plt.xlabel('Epochs')\n",
    "plt.ylabel('Loss')\n",
    "plt.legend()\n",
    "plt.show()"
   ]
  },
  {
   "cell_type": "code",
   "execution_count": 164,
   "metadata": {},
   "outputs": [
    {
     "data": {
      "image/png": "[encoded data removed]",
      "text/plain": [
       "<Figure size 432x288 with 1 Axes>"
      ]
     },
     "metadata": {
      "needs_background": "light"
     },
     "output_type": "display_data"
    }
   ],
   "source": [
    "plt.clf()\n",
    "acc_values = history_dict['accuracy']\n",
    "val_acc_values = history_dict['val_accuracy']\n",
    "\n",
    "#bo is for blue dot\n",
    "plt.plot(epochs, acc, 'bo', label='Training acc')\n",
    "#b is for solid blue line\n",
    "plt.plot(epochs, val_acc, 'b', label='Validation acc')\n",
    "plt.title('Training and validation accuracy')\n",
    "plt.xlabel('Epochs')\n",
    "plt.ylabel('Accuracy')\n",
    "plt.legend()\n",
    "plt.show()"
   ]
  },
  {
   "cell_type": "code",
   "execution_count": 107,
   "metadata": {},
   "outputs": [
    {
     "name": "stdout",
     "output_type": "stream",
     "text": [
      "Model: \"sequential_9\"\n",
      "_________________________________________________________________\n",
      "Layer (type)                 Output Shape              Param #   \n",
      "=================================================================\n",
      "embedding_9 (Embedding)      (None, None, 32)          1600000   \n",
      "_________________________________________________________________\n",
      "conv1d_5 (Conv1D)            (None, None, 32)          3104      \n",
      "_________________________________________________________________\n",
      "conv1d_6 (Conv1D)            (None, None, 32)          3104      \n",
      "_________________________________________________________________\n",
      "global_average_pooling1d_8 ( (None, 32)                0         \n",
      "_________________________________________________________________\n",
      "dense_14 (Dense)             (None, 92)                3036      \n",
      "_________________________________________________________________\n",
      "dense_15 (Dense)             (None, 46)                4278      \n",
      "=================================================================\n",
      "Total params: 1,613,522\n",
      "Trainable params: 1,613,522\n",
      "Non-trainable params: 0\n",
      "_________________________________________________________________\n"
     ]
    }
   ],
   "source": [
    "#la forma de entrada es el recuento de vocabulario utilizado para las reseñas de películas\n",
    "vocab_size = 50000\n",
    "\n",
    "model = keras.Sequential()\n",
    "#una capa de embedding de los 10000 que tenemos en el vocabulario con un tamaño de 16. \n",
    "#Por cada elemento de entrada nos de un word embedding de 16 elementos. \n",
    "#256 vectores de 16 elementos \n",
    "\n",
    "model.add(keras.layers.Embedding(vocab_size, 32)) \n",
    "#Como son muchos elementos vamos a crear la medio de los word_embeddings\n",
    "\n",
    "#Ahora si, una capa densa con relu\n",
    "model.add(keras.layers.Conv1D(32, 3,activation='relu'))\n",
    "model.add(keras.layers.Conv1D(32, 3,activation='relu'))\n",
    "model.add(keras.layers.GlobalAveragePooling1D())\n",
    "\n",
    "model.add(keras.layers.Dense(92, activation=tf.nn.relu))\n",
    "#Una última capa que tiene 1 elemento. La sigmoid se identifica más con una probabilidad.\n",
    "model.add(keras.layers.Dense(46, activation='softmax'))\n",
    "\n",
    "model.summary()"
   ]
  },
  {
   "cell_type": "code",
   "execution_count": 108,
   "metadata": {},
   "outputs": [],
   "source": [
    "model.compile(optimizer='adam', \n",
    "             loss='sparse_categorical_crossentropy', #la misma función de pérdida que CategoricalCrossentropy pero para problemas de dos clases\n",
    "             metrics=['accuracy'])"
   ]
  },
  {
   "cell_type": "code",
   "execution_count": 111,
   "metadata": {},
   "outputs": [
    {
     "name": "stdout",
     "output_type": "stream",
     "text": [
      "Train on 1797 samples, validate on 7185 samples\n",
      "Epoch 1/25\n",
      "1797/1797 [==============================] - 2s 967us/sample - loss: 2.2378 - accuracy: 0.3745 - val_loss: 2.2524 - val_accuracy: 0.3827\n",
      "Epoch 2/25\n",
      "1797/1797 [==============================] - 2s 957us/sample - loss: 2.1963 - accuracy: 0.3812 - val_loss: 2.2145 - val_accuracy: 0.3905\n",
      "Epoch 3/25\n",
      "1797/1797 [==============================] - 2s 1ms/sample - loss: 2.1467 - accuracy: 0.4085 - val_loss: 2.1761 - val_accuracy: 0.4090\n",
      "Epoch 4/25\n",
      "1797/1797 [==============================] - 2s 995us/sample - loss: 2.0898 - accuracy: 0.4240 - val_loss: 2.1346 - val_accuracy: 0.4507\n",
      "Epoch 5/25\n",
      "1797/1797 [==============================] - 2s 987us/sample - loss: 2.0292 - accuracy: 0.4763 - val_loss: 2.0902 - val_accuracy: 0.4527\n",
      "Epoch 6/25\n",
      "1797/1797 [==============================] - 2s 1ms/sample - loss: 1.9701 - accuracy: 0.4741 - val_loss: 2.0654 - val_accuracy: 0.4909\n",
      "Epoch 7/25\n",
      "1797/1797 [==============================] - 2s 1ms/sample - loss: 1.9067 - accuracy: 0.4964 - val_loss: 2.0000 - val_accuracy: 0.4767\n",
      "Epoch 8/25\n",
      "1797/1797 [==============================] - 2s 1ms/sample - loss: 1.8176 - accuracy: 0.5136 - val_loss: 1.9467 - val_accuracy: 0.4953\n",
      "Epoch 9/25\n",
      "1797/1797 [==============================] - 2s 1ms/sample - loss: 1.7328 - accuracy: 0.5387 - val_loss: 1.8916 - val_accuracy: 0.5205\n",
      "Epoch 10/25\n",
      "1797/1797 [==============================] - 2s 1ms/sample - loss: 1.6463 - accuracy: 0.5626 - val_loss: 1.8545 - val_accuracy: 0.5292\n",
      "Epoch 11/25\n",
      "1797/1797 [==============================] - 2s 1ms/sample - loss: 1.5657 - accuracy: 0.5799 - val_loss: 1.8017 - val_accuracy: 0.5443\n",
      "Epoch 12/25\n",
      "1797/1797 [==============================] - 2s 1ms/sample - loss: 1.4963 - accuracy: 0.6032 - val_loss: 1.7878 - val_accuracy: 0.5527\n",
      "Epoch 13/25\n",
      "1797/1797 [==============================] - 2s 1ms/sample - loss: 1.4340 - accuracy: 0.6205 - val_loss: 1.7444 - val_accuracy: 0.5759\n",
      "Epoch 14/25\n",
      "1797/1797 [==============================] - 2s 1ms/sample - loss: 1.3785 - accuracy: 0.6316 - val_loss: 1.7397 - val_accuracy: 0.5898\n",
      "Epoch 15/25\n",
      "1797/1797 [==============================] - 2s 1ms/sample - loss: 1.3278 - accuracy: 0.6589 - val_loss: 1.7366 - val_accuracy: 0.6049\n",
      "Epoch 16/25\n",
      "1797/1797 [==============================] - 2s 1ms/sample - loss: 1.2790 - accuracy: 0.6667 - val_loss: 1.7256 - val_accuracy: 0.6003\n",
      "Epoch 17/25\n",
      "1797/1797 [==============================] - 2s 1ms/sample - loss: 1.2395 - accuracy: 0.6761 - val_loss: 1.7404 - val_accuracy: 0.6138\n",
      "Epoch 18/25\n",
      "1797/1797 [==============================] - 2s 1ms/sample - loss: 1.1962 - accuracy: 0.6834 - val_loss: 1.7428 - val_accuracy: 0.6244\n",
      "Epoch 19/25\n",
      "1797/1797 [==============================] - 2s 1ms/sample - loss: 1.1502 - accuracy: 0.7140 - val_loss: 1.7330 - val_accuracy: 0.6276\n",
      "Epoch 20/25\n",
      "1797/1797 [==============================] - 2s 1ms/sample - loss: 1.1098 - accuracy: 0.7168 - val_loss: 1.7471 - val_accuracy: 0.6309\n",
      "Epoch 21/25\n",
      "1797/1797 [==============================] - 2s 1ms/sample - loss: 1.0833 - accuracy: 0.7234 - val_loss: 1.7499 - val_accuracy: 0.6363\n",
      "Epoch 22/25\n",
      "1797/1797 [==============================] - 2s 1ms/sample - loss: 1.0572 - accuracy: 0.7329 - val_loss: 1.7490 - val_accuracy: 0.6331\n",
      "Epoch 23/25\n",
      "1797/1797 [==============================] - 2s 1ms/sample - loss: 1.0327 - accuracy: 0.7357 - val_loss: 1.8428 - val_accuracy: 0.6230\n",
      "Epoch 24/25\n",
      "1797/1797 [==============================] - 2s 1ms/sample - loss: 0.9811 - accuracy: 0.7396 - val_loss: 1.7695 - val_accuracy: 0.6301\n",
      "Epoch 25/25\n",
      "1797/1797 [==============================] - 2s 1ms/sample - loss: 0.9408 - accuracy: 0.7596 - val_loss: 1.8530 - val_accuracy: 0.6299\n"
     ]
    }
   ],
   "source": [
    "history = model.fit(partial_x_train,\n",
    "                   partial_y_train,\n",
    "                   epochs=25, \n",
    "                   batch_size=64, \n",
    "                   validation_data=(x_val, y_val),\n",
    "                   verbose=1)"
   ]
  },
  {
   "cell_type": "code",
   "execution_count": 112,
   "metadata": {},
   "outputs": [
    {
     "name": "stdout",
     "output_type": "stream",
     "text": [
      "2246/2246 [==============================] - 0s 141us/sample - loss: 1.8460 - accuracy: 0.6300\n",
      "[1.8459955947481939, 0.6300089]\n"
     ]
    }
   ],
   "source": [
    "results = model.evaluate(test_data, test_labels)\n",
    "print(results)"
   ]
  },
  {
   "cell_type": "code",
   "execution_count": 113,
   "metadata": {},
   "outputs": [
    {
     "data": {
      "image/png": "[encoded data removed]",
      "text/plain": [
       "<Figure size 432x288 with 1 Axes>"
      ]
     },
     "metadata": {
      "needs_background": "light"
     },
     "output_type": "display_data"
    },
    {
     "data": {
      "image/png": "[encoded data removed]",
      "text/plain": [
       "<Figure size 432x288 with 1 Axes>"
      ]
     },
     "metadata": {
      "needs_background": "light"
     },
     "output_type": "display_data"
    }
   ],
   "source": [
    "history_dict = history.history #A partir del objeto hystory lo guardamos para graficarlo\n",
    "history_dict.keys()\n",
    "#%matplotlib inline\n",
    "\n",
    "acc= history.history['accuracy']\n",
    "val_acc = history.history['val_accuracy']\n",
    "loss=history.history['loss']\n",
    "val_loss = history.history['val_loss']\n",
    "\n",
    "epochs = range(1, len(acc) +1)\n",
    "\n",
    "#bo is for blue dot\n",
    "plt.plot(epochs, loss, 'bo', label='Training loss')\n",
    "#b is for solid blue line\n",
    "plt.plot(epochs, val_loss, 'b', label='Validation loss')\n",
    "plt.title('Training and validation loss')\n",
    "plt.xlabel('Epochs')\n",
    "plt.ylabel('Loss')\n",
    "plt.legend()\n",
    "plt.show()\n",
    "\n",
    "\n",
    "plt.clf()\n",
    "acc_values = history_dict['accuracy']\n",
    "val_acc_values = history_dict['val_accuracy']\n",
    "\n",
    "#bo is for blue dot\n",
    "plt.plot(epochs, acc, 'bo', label='Training acc')\n",
    "#b is for solid blue line\n",
    "plt.plot(epochs, val_acc, 'b', label='Validation acc')\n",
    "plt.title('Training and validation accuracy')\n",
    "plt.xlabel('Epochs')\n",
    "plt.ylabel('Accuracy')\n",
    "plt.legend()\n",
    "plt.show()"
   ]
  },
  {
   "cell_type": "code",
   "execution_count": 188,
   "metadata": {},
   "outputs": [
    {
     "name": "stdout",
     "output_type": "stream",
     "text": [
      "Model: \"sequential_30\"\n",
      "_________________________________________________________________\n",
      "Layer (type)                 Output Shape              Param #   \n",
      "=================================================================\n",
      "embedding_30 (Embedding)     (None, None, 32)          1600000   \n",
      "_________________________________________________________________\n",
      "lstm_9 (LSTM)                (None, None, 40)          11680     \n",
      "_________________________________________________________________\n",
      "global_average_pooling1d_24  (None, 40)                0         \n",
      "_________________________________________________________________\n",
      "dense_46 (Dense)             (None, 50)                2050      \n",
      "_________________________________________________________________\n",
      "dense_47 (Dense)             (None, 46)                2346      \n",
      "=================================================================\n",
      "Total params: 1,616,076\n",
      "Trainable params: 1,616,076\n",
      "Non-trainable params: 0\n",
      "_________________________________________________________________\n"
     ]
    }
   ],
   "source": [
    "#la forma de entrada es el recuento de vocabulario utilizado para las reseñas de películas\n",
    "vocab_size = 50000\n",
    "\n",
    "model = keras.Sequential()\n",
    "#una capa de embedding de los 10000 que tenemos en el vocabulario con un tamaño de 16. \n",
    "#Por cada elemento de entrada nos de un word embedding de 16 elementos. \n",
    "#256 vectores de 16 elementos \n",
    "\n",
    "model.add(keras.layers.Embedding(vocab_size, 32)) \n",
    "#Como son muchos elementos vamos a crear la medio de los word_embeddings\n",
    "\n",
    "#Ahora si, una capa densa con relu\n",
    "\n",
    "model.add(keras.layers.LSTM(40,return_sequences = True))\n",
    "model.add(keras.layers.GlobalAveragePooling1D())\n",
    "model.add(keras.layers.Dense(50, activation=tf.nn.relu))\n",
    "#Una última capa que tiene 1 elemento. La sigmoid se identifica más con una probabilidad.\n",
    "model.add(keras.layers.Dense(46, activation='softmax'))\n",
    "\n",
    "model.summary()"
   ]
  },
  {
   "cell_type": "code",
   "execution_count": 189,
   "metadata": {},
   "outputs": [],
   "source": [
    "model.compile(optimizer='adam', \n",
    "             loss='sparse_categorical_crossentropy', #la misma función de pérdida que CategoricalCrossentropy pero para problemas de dos clases\n",
    "             metrics=['accuracy'])"
   ]
  },
  {
   "cell_type": "code",
   "execution_count": 190,
   "metadata": {},
   "outputs": [
    {
     "name": "stdout",
     "output_type": "stream",
     "text": [
      "Train on 1797 samples, validate on 7185 samples\n",
      "Epoch 1/40\n",
      "1797/1797 [==============================] - 14s 8ms/sample - loss: 3.5009 - accuracy: 0.3317 - val_loss: 2.8628 - val_accuracy: 0.3534\n",
      "Epoch 2/40\n",
      "1797/1797 [==============================] - 12s 7ms/sample - loss: 2.6206 - accuracy: 0.3450 - val_loss: 2.4611 - val_accuracy: 0.3534\n",
      "Epoch 3/40\n",
      "1797/1797 [==============================] - 12s 7ms/sample - loss: 2.3314 - accuracy: 0.3506 - val_loss: 2.3039 - val_accuracy: 0.3577\n",
      "Epoch 4/40\n",
      "1797/1797 [==============================] - 12s 7ms/sample - loss: 2.2332 - accuracy: 0.3511 - val_loss: 2.2510 - val_accuracy: 0.3591\n",
      "Epoch 5/40\n",
      "1797/1797 [==============================] - 12s 7ms/sample - loss: 2.1811 - accuracy: 0.3511 - val_loss: 2.2153 - val_accuracy: 0.3577\n",
      "Epoch 6/40\n",
      "1797/1797 [==============================] - 12s 7ms/sample - loss: 2.0857 - accuracy: 0.3645 - val_loss: 2.1375 - val_accuracy: 0.3724\n",
      "Epoch 7/40\n",
      "1797/1797 [==============================] - 12s 7ms/sample - loss: 1.9363 - accuracy: 0.3929 - val_loss: 2.0839 - val_accuracy: 0.3886\n",
      "Epoch 8/40\n",
      "1797/1797 [==============================] - 12s 7ms/sample - loss: 1.8818 - accuracy: 0.3912 - val_loss: 2.1040 - val_accuracy: 0.3858\n",
      "Epoch 9/40\n",
      "1797/1797 [==============================] - 12s 7ms/sample - loss: 1.9029 - accuracy: 0.3923 - val_loss: 2.0989 - val_accuracy: 0.3844\n",
      "Epoch 10/40\n",
      "1797/1797 [==============================] - 12s 7ms/sample - loss: 1.9151 - accuracy: 0.3973 - val_loss: 2.1560 - val_accuracy: 0.3727\n",
      "Epoch 11/40\n",
      "1797/1797 [==============================] - 12s 7ms/sample - loss: 1.9989 - accuracy: 0.4630 - val_loss: 2.1601 - val_accuracy: 0.4792\n",
      "Epoch 12/40\n",
      "1797/1797 [==============================] - 12s 7ms/sample - loss: 2.0036 - accuracy: 0.5047 - val_loss: 2.1078 - val_accuracy: 0.4856\n",
      "Epoch 13/40\n",
      "1797/1797 [==============================] - 12s 7ms/sample - loss: 2.0539 - accuracy: 0.4908 - val_loss: 2.1283 - val_accuracy: 0.4701\n",
      "Epoch 14/40\n",
      "1797/1797 [==============================] - 12s 7ms/sample - loss: 2.0689 - accuracy: 0.4736 - val_loss: 2.0924 - val_accuracy: 0.4724\n",
      "Epoch 15/40\n",
      "1797/1797 [==============================] - 12s 7ms/sample - loss: 2.0573 - accuracy: 0.4736 - val_loss: 2.0881 - val_accuracy: 0.4718\n",
      "Epoch 16/40\n",
      "1797/1797 [==============================] - 12s 7ms/sample - loss: 2.0494 - accuracy: 0.4736 - val_loss: 2.0827 - val_accuracy: 0.4717\n",
      "Epoch 17/40\n",
      "1797/1797 [==============================] - 12s 7ms/sample - loss: 2.0483 - accuracy: 0.4736 - val_loss: 2.0807 - val_accuracy: 0.4720\n",
      "Epoch 18/40\n",
      "1797/1797 [==============================] - 12s 7ms/sample - loss: 2.0410 - accuracy: 0.4736 - val_loss: 2.0783 - val_accuracy: 0.4721\n",
      "Epoch 19/40\n",
      "1797/1797 [==============================] - 12s 7ms/sample - loss: 2.0415 - accuracy: 0.4730 - val_loss: 2.0699 - val_accuracy: 0.4718\n",
      "Epoch 20/40\n",
      "1797/1797 [==============================] - 12s 7ms/sample - loss: 2.0337 - accuracy: 0.4730 - val_loss: 2.0620 - val_accuracy: 0.4714\n",
      "Epoch 21/40\n",
      "1797/1797 [==============================] - 12s 7ms/sample - loss: 2.0135 - accuracy: 0.4713 - val_loss: 2.0674 - val_accuracy: 0.4728\n",
      "Epoch 22/40\n",
      "1797/1797 [==============================] - 12s 7ms/sample - loss: 2.0219 - accuracy: 0.4730 - val_loss: 2.0592 - val_accuracy: 0.4699\n",
      "Epoch 23/40\n",
      "1797/1797 [==============================] - 12s 7ms/sample - loss: 1.9802 - accuracy: 0.4719 - val_loss: 2.0375 - val_accuracy: 0.4686\n",
      "Epoch 24/40\n",
      "1797/1797 [==============================] - 13s 7ms/sample - loss: 2.0186 - accuracy: 0.4713 - val_loss: 2.1580 - val_accuracy: 0.4736\n",
      "Epoch 25/40\n",
      "1797/1797 [==============================] - 15s 8ms/sample - loss: 2.0517 - accuracy: 0.4736 - val_loss: 2.0843 - val_accuracy: 0.4735\n",
      "Epoch 26/40\n",
      "1797/1797 [==============================] - 12s 7ms/sample - loss: 1.9996 - accuracy: 0.4747 - val_loss: 2.0607 - val_accuracy: 0.4756\n",
      "Epoch 27/40\n",
      "1797/1797 [==============================] - 12s 7ms/sample - loss: 1.9536 - accuracy: 0.4786 - val_loss: 1.9959 - val_accuracy: 0.4802\n",
      "Epoch 28/40\n",
      "1797/1797 [==============================] - 12s 7ms/sample - loss: 1.8834 - accuracy: 0.4908 - val_loss: 1.9379 - val_accuracy: 0.4942\n",
      "Epoch 29/40\n",
      "1797/1797 [==============================] - 12s 7ms/sample - loss: 1.7996 - accuracy: 0.5036 - val_loss: 1.8251 - val_accuracy: 0.5066\n",
      "Epoch 30/40\n",
      "1797/1797 [==============================] - 12s 7ms/sample - loss: 1.7536 - accuracy: 0.5064 - val_loss: 1.8127 - val_accuracy: 0.5105\n",
      "Epoch 31/40\n",
      "1797/1797 [==============================] - 12s 7ms/sample - loss: 1.7163 - accuracy: 0.5186 - val_loss: 1.8245 - val_accuracy: 0.5123\n",
      "Epoch 32/40\n",
      "1797/1797 [==============================] - 12s 7ms/sample - loss: 1.7159 - accuracy: 0.5287 - val_loss: 1.8684 - val_accuracy: 0.5150\n",
      "Epoch 33/40\n",
      "1797/1797 [==============================] - 12s 7ms/sample - loss: 2.0961 - accuracy: 0.4352 - val_loss: 1.9111 - val_accuracy: 0.5166\n",
      "Epoch 34/40\n",
      "1797/1797 [==============================] - 12s 7ms/sample - loss: 1.6957 - accuracy: 0.5237 - val_loss: 1.8190 - val_accuracy: 0.5119\n",
      "Epoch 35/40\n",
      "1797/1797 [==============================] - 12s 7ms/sample - loss: 1.6666 - accuracy: 0.5237 - val_loss: 1.8189 - val_accuracy: 0.5113\n",
      "Epoch 36/40\n",
      "1797/1797 [==============================] - 12s 7ms/sample - loss: 1.6461 - accuracy: 0.5214 - val_loss: 1.8175 - val_accuracy: 0.4942\n",
      "Epoch 37/40\n",
      "1797/1797 [==============================] - 12s 7ms/sample - loss: 1.6442 - accuracy: 0.5248 - val_loss: 1.8171 - val_accuracy: 0.5150\n",
      "Epoch 38/40\n",
      "1797/1797 [==============================] - 12s 7ms/sample - loss: 1.6355 - accuracy: 0.5237 - val_loss: 1.8801 - val_accuracy: 0.5030\n",
      "Epoch 39/40\n",
      "1797/1797 [==============================] - 12s 7ms/sample - loss: 1.6612 - accuracy: 0.5314 - val_loss: 1.8213 - val_accuracy: 0.5216\n",
      "Epoch 40/40\n",
      "1797/1797 [==============================] - 12s 7ms/sample - loss: 1.6166 - accuracy: 0.5326 - val_loss: 1.8315 - val_accuracy: 0.5236\n"
     ]
    }
   ],
   "source": [
    "history = model.fit(partial_x_train,\n",
    "                   partial_y_train,\n",
    "                   epochs=40,\n",
    "                   batch_size=64, \n",
    "                   validation_data=(x_val, y_val),\n",
    "                   verbose=1)"
   ]
  },
  {
   "cell_type": "code",
   "execution_count": 191,
   "metadata": {},
   "outputs": [
    {
     "name": "stdout",
     "output_type": "stream",
     "text": [
      "2246/2246 [==============================] - 3s 1ms/sample - loss: 1.8630 - accuracy: 0.5111\n",
      "[1.8629795451941282, 0.5111309]\n"
     ]
    }
   ],
   "source": [
    "results = model.evaluate(test_data, test_labels)\n",
    "print(results)"
   ]
  },
  {
   "cell_type": "code",
   "execution_count": 192,
   "metadata": {},
   "outputs": [
    {
     "data": {
      "image/png": "[encoded data removed]",
      "text/plain": [
       "<Figure size 432x288 with 1 Axes>"
      ]
     },
     "metadata": {
      "needs_background": "light"
     },
     "output_type": "display_data"
    },
    {
     "data": {
      "image/png": "[encoded data removed]",
      "text/plain": [
       "<Figure size 432x288 with 1 Axes>"
      ]
     },
     "metadata": {
      "needs_background": "light"
     },
     "output_type": "display_data"
    }
   ],
   "source": [
    "history_dict = history.history #A partir del objeto hystory lo guardamos para graficarlo\n",
    "history_dict.keys()\n",
    "#%matplotlib inline\n",
    "\n",
    "acc= history.history['accuracy']\n",
    "val_acc = history.history['val_accuracy']\n",
    "loss=history.history['loss']\n",
    "val_loss = history.history['val_loss']\n",
    "\n",
    "epochs = range(1, len(acc) +1)\n",
    "\n",
    "#bo is for blue dot\n",
    "plt.plot(epochs, loss, 'bo', label='Training loss')\n",
    "#b is for solid blue line\n",
    "plt.plot(epochs, val_loss, 'b', label='Validation loss')\n",
    "plt.title('Training and validation loss')\n",
    "plt.xlabel('Epochs')\n",
    "plt.ylabel('Loss')\n",
    "plt.legend()\n",
    "plt.show()\n",
    "\n",
    "\n",
    "plt.clf()\n",
    "acc_values = history_dict['accuracy']\n",
    "val_acc_values = history_dict['val_accuracy']\n",
    "\n",
    "#bo is for blue dot\n",
    "plt.plot(epochs, acc, 'bo', label='Training acc')\n",
    "#b is for solid blue line\n",
    "plt.plot(epochs, val_acc, 'b', label='Validation acc')\n",
    "plt.title('Training and validation accuracy')\n",
    "plt.xlabel('Epochs')\n",
    "plt.ylabel('Accuracy')\n",
    "plt.legend()\n",
    "plt.show()"
   ]
  },
  {
   "cell_type": "code",
   "execution_count": null,
   "metadata": {},
   "outputs": [],
   "source": []
  }
 ],
 "metadata": {
  "accelerator": "GPU",
  "colab": {
   "collapsed_sections": [],
   "name": "Actividad 3 - Parte 1",
   "provenance": [],
   "version": "0.3.2"
  },
  "kernelspec": {
   "display_name": "Python 3",
   "language": "python",
   "name": "python3"
  },
  "language_info": {
   "codemirror_mode": {
    "name": "ipython",
    "version": 3
   },
   "file_extension": ".py",
   "mimetype": "text/x-python",
   "name": "python",
   "nbconvert_exporter": "python",
   "pygments_lexer": "ipython3",
   "version": "3.7.7"
  }
 },
 "nbformat": 4,
 "nbformat_minor": 4
}
