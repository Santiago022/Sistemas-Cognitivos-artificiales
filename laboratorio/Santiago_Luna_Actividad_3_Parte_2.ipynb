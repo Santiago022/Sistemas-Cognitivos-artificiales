{
  "nbformat": 4,
  "nbformat_minor": 0,
  "metadata": {
    "accelerator": "GPU",
    "colab": {
      "name": "Santiago_Luna_Actividad_3_Parte_2.ipynb",
      "provenance": [],
      "collapsed_sections": [],
      "toc_visible": true
    },
    "kernelspec": {
      "display_name": "Python 3",
      "language": "python",
      "name": "python3"
    },
    "language_info": {
      "codemirror_mode": {
        "name": "ipython",
        "version": 3
      },
      "file_extension": ".py",
      "mimetype": "text/x-python",
      "name": "python",
      "nbconvert_exporter": "python",
      "pygments_lexer": "ipython3",
      "version": "3.7.7"
    }
  },
  "cells": [
    {
      "cell_type": "markdown",
      "metadata": {
        "colab_type": "text",
        "id": "mX8gZlVyCCbz"
      },
      "source": [
        "# Segunda parte: Modelos del lenguaje con RNNs\n",
        "\n",
        "En esta parte, vamos a entrenar un modelo del lenguaje basado en caracteres con Recurrent Neural Networks. Asimismo, utilizaremos el modelo para generar texto. En particular, alimentaremos nuestro modelo con obras de la literatura clásica en castellano para obtener una red neuronal que sea capaz de \"escribir\" fragmentos literarios.\n",
        "\n",
        "Los entrenamientos para obtener un modelo de calidad podrían tomar cierto tiempo (5-10 minutos por epoch), por lo que se aconseja empezar a trabajar pronto. El uso de GPUs no ayuda tanto con LSTMs como con CNNs, por lo que si tenéis máquinas potentes en casa es posible que podáis entrenar más rápido o a la misma velocidad que en Colab. En todo caso, la potencia de Colab es más que suficiente para completar esta actividad con éxito.\n",
        "\n",
        "<center><img src=\"https://upload.wikimedia.org/wikipedia/commons/d/d8/El_ingenioso_hidalgo_don_Quijote_de_la_Mancha.jpg\" style=\"text-align: center\" height=\"300px\"></center>\n",
        "\n",
        "El dataset a utilizar consistirá en un archivo de texto con el contenido íntegro en castellano antiguo de El Ingenioso Hidalgo Don Quijote de la Mancha, disponible de manera libre en la página de [Project Gutenberg](https://www.gutenberg.org). Asimismo, como apartado optativo en este laboratorio se pueden utilizar otras fuentes de texto. Aquí podéis descargar los datos a utilizar de El Quijote y un par de obras adicionales:\n",
        "\n",
        "[El ingenioso hidalgo Don Quijote de la Mancha (Miguel de Cervantes)](https://onedrive.live.com/download?cid=C506CF0A4F373B0F&resid=C506CF0A4F373B0F%219424&authkey=AH0gb-qSo5Xd7Io)\n",
        "\n",
        "[Compilación de obras teatrales (Calderón de la Barca)](https://onedrive.live.com/download?cid=C506CF0A4F373B0F&resid=C506CF0A4F373B0F%219433&authkey=AKvGD6DC3IRBqmc)\n",
        "\n",
        "[Trafalgar (Benito Pérez Galdós)](https://onedrive.live.com/download?cid=C506CF0A4F373B0F&resid=C506CF0A4F373B0F%219434&authkey=AErPCAtMKOI5tYQ)\n",
        "\n",
        "Como ya deberíamos de estar acostumbrados en problemas de Machine Learning, es importante echar un vistazo a los datos antes de empezar."
      ]
    },
    {
      "cell_type": "code",
      "metadata": {
        "id": "G_PUXYU5RhUY",
        "colab_type": "code",
        "colab": {}
      },
      "source": [
        ""
      ],
      "execution_count": 0,
      "outputs": []
    },
    {
      "cell_type": "code",
      "metadata": {
        "id": "q6z_p9bqRhpz",
        "colab_type": "code",
        "colab": {}
      },
      "source": [
        "#from google.colab import drive\n",
        "#drive.mount('/content/drive')"
      ],
      "execution_count": 0,
      "outputs": []
    },
    {
      "cell_type": "markdown",
      "metadata": {
        "colab_type": "text",
        "id": "QI274F8LQC59"
      },
      "source": [
        "## 1. Carga y procesado del texto"
      ]
    },
    {
      "cell_type": "markdown",
      "metadata": {
        "colab_type": "text",
        "id": "MZNnzvXuqVVm"
      },
      "source": [
        "Primero, vamos a descargar el libro e inspeccionar los datos. El fichero a descargar es una versión en .txt del libro de Don Quijote, a la cual se le han borrado introducciones, licencias y otras secciones para dejarlo con el contenido real de la novela."
      ]
    },
    {
      "cell_type": "code",
      "metadata": {
        "colab_type": "code",
        "id": "D7tKOZ9BFfki",
        "outputId": "89ba149e-3e03-4e8f-f909-bf27721bd8ff",
        "colab": {
          "base_uri": "https://localhost:8080/",
          "height": 72
        }
      },
      "source": [
        "import numpy as np \n",
        "import keras\n",
        "import matplotlib.pyplot as plt\n",
        "from keras.callbacks import LambdaCallback\n",
        "from keras.models import Sequential\n",
        "from keras.layers import Dense\n",
        "from keras.layers import LSTM\n",
        "import random\n",
        "import io\n",
        "\n",
        "path = keras.utils.get_file(\n",
        "    fname=\"don_quijote.txt\", \n",
        "    origin=\"https://onedrive.live.com/download?cid=C506CF0A4F373B0F&resid=C506CF0A4F373B0F%219424&authkey=AH0gb-qSo5Xd7Io\"\n",
        ")"
      ],
      "execution_count": 0,
      "outputs": [
        {
          "output_type": "stream",
          "text": [
            "Using TensorFlow backend.\n"
          ],
          "name": "stderr"
        },
        {
          "output_type": "stream",
          "text": [
            "Downloading data from https://onedrive.live.com/download?cid=C506CF0A4F373B0F&resid=C506CF0A4F373B0F%219424&authkey=AH0gb-qSo5Xd7Io\n",
            "2154496/2151176 [==============================] - 1s 1us/step\n"
          ],
          "name": "stdout"
        }
      ]
    },
    {
      "cell_type": "markdown",
      "metadata": {
        "colab_type": "text",
        "id": "VYGLvjLXrUUd"
      },
      "source": [
        "Una vez descargado, vamos a leer el contenido del fichero en una variable. Adicionalmente, convertiremos el contenido del texto a minúsculas para ponérselo un poco más fácil a nuestro modelo (de modo que todas las letras sean minúsculas y el modelo no necesite diferenciar entre minúsculas y mayúsculas).\n",
        "\n",
        "**1.1.** Leer todo el contenido del fichero en una única variable ***text*** y convertir el string a minúsculas"
      ]
    },
    {
      "cell_type": "code",
      "metadata": {
        "colab_type": "code",
        "id": "8WB6FejrrTu9",
        "colab": {}
      },
      "source": [
        "## TU CÓDIGO AQUÍ\n",
        "with open(path, encoding=\"utf8\") as f:\n",
        "    text = f.read().lower()"
      ],
      "execution_count": 0,
      "outputs": []
    },
    {
      "cell_type": "markdown",
      "metadata": {
        "colab_type": "text",
        "id": "dkgGl8GWtUk8"
      },
      "source": [
        "Podemos comprobar ahora que efectivamente nuestra variable contiene el resultado deseado, con el comienzo tan característico del Quijote."
      ]
    },
    {
      "cell_type": "code",
      "metadata": {
        "colab_type": "code",
        "id": "hMFhe3COFwSD",
        "outputId": "34fe40e7-d51a-4a8c-d50b-cc27255783b1",
        "colab": {
          "base_uri": "https://localhost:8080/",
          "height": 164
        }
      },
      "source": [
        "print(\"Longitud del texto: {}\".format(len(text)))\n",
        "print(text[0:300])"
      ],
      "execution_count": 0,
      "outputs": [
        {
          "output_type": "stream",
          "text": [
            "Longitud del texto: 2071198\n",
            "capítulo primero. que trata de la condición y ejercicio del famoso hidalgo\n",
            "don quijote de la mancha\n",
            "\n",
            "\n",
            "en un lugar de la mancha, de cuyo nombre no quiero acordarme, no ha mucho\n",
            "tiempo que vivía un hidalgo de los de lanza en astillero, adarga antigua,\n",
            "rocín flaco y galgo corredor. una olla de algo más\n"
          ],
          "name": "stdout"
        }
      ]
    },
    {
      "cell_type": "markdown",
      "metadata": {
        "colab_type": "text",
        "id": "bZ7TUXWiyvOj"
      },
      "source": [
        "## 2. Procesado de los datos"
      ]
    },
    {
      "cell_type": "markdown",
      "metadata": {
        "colab_type": "text",
        "id": "x66_Vi_Gyxns"
      },
      "source": [
        "Una de las grandes ventajas de trabajar con modelos que utilizan caracteres en vez de palabras es que no necesitamos tokenizar el texto (partirlo palabra a palabra). Nuestro modelo funcionará directamente con los caracteres en el texto, incluyendo espacios, saltos de línea, etc.\n",
        "\n",
        "Antes de hacer nada, necesitamos procesar el texto en entradas y salidas compatibles con nuestro modelo. Como sabemos, un modelo del lenguaje con RNNs acepta una serie de caracteres y predice el siguiente carácter en la secuencia.\n",
        "\n",
        "* \"*El ingenioso don Qui*\" -> predicción: **j**\n",
        "* \"*El ingenioso don Quij*\" -> predicción: **o**\n",
        "\n",
        "De modo que la entrada y la salida de nuestro modelo necesita ser algo parecido a este esquema. En este punto, podríamos usar dos formas de preparar los datos para nuestro modelo.\n",
        "\n",
        "1. **Secuencia a secuencia**. La entrada de nuestro modelo sería una secuencia y la salida sería esa secuencia trasladada un caracter a la derecha, de modo que en cada instante de tiempo la RNN tiene que predecir el carácter siguiente. Por ejemplo:\n",
        "\n",
        ">* *Input*:   El ingenioso don Quijot \n",
        ">* *Output*: l ingenioso don Quijote\n",
        "\n",
        "2. **Secuencia a carácter**. En este variante, pasaríamos una secuencia de caracteres por nuestra RNN y, al llegar al final de la secuencia, predeciríamos el siguiente carácter.\n",
        "\n",
        ">* *Input*:   El ingenioso don Quijot \n",
        ">* *Output*: e\n",
        "\n",
        "En este laboratorio, por simplicidad, vamos a utilizar la segunda variante.\n",
        "\n",
        "De este modo, a partir del texto, hemos de generar nuestro propio training data que consista en secuencias de caracteres con el siguiente carácter a predecir. Para estandarizar las cosas, utilizaremos secuencias de tamaño *SEQ_LENGTH* caracteres (un hiperparámetro que podemos elegir nosotros).\n",
        "\n"
      ]
    },
    {
      "cell_type": "markdown",
      "metadata": {
        "colab_type": "text",
        "id": "mkfJUIxW5m5C"
      },
      "source": [
        "#### 2.1. Obtención de los caracteres y mapas de caracteres\n",
        "\n",
        "Antes que nada, necesitamos saber qué caracteres aparecen en el texto, ya que tendremos que diferenciarlos mediante un índice de 0 a *num_chars* - 1 en el modelo. Obtener:\n",
        " \n",
        "\n",
        "1.   Número de caracteres únicos que aparecen en el texto.\n",
        "2.   Diccionario que asocia char a índice único entre 0 y *num_chars* - 1. Por ejemplo, {'a': 0, 'b': 1, ...}\n",
        "3.   Diccionario reverso de índices a caracteres: {0: 'a', 1: 'b', ...}\n"
      ]
    },
    {
      "cell_type": "code",
      "metadata": {
        "id": "yAFv9BfUKU51",
        "colab_type": "code",
        "outputId": "5266dc36-ccec-4335-837c-3ad8a897fb68",
        "colab": {
          "base_uri": "https://localhost:8080/",
          "height": 35
        }
      },
      "source": [
        "text[0:100]"
      ],
      "execution_count": 0,
      "outputs": [
        {
          "output_type": "execute_result",
          "data": {
            "text/plain": [
              "'capítulo primero. que trata de la condición y ejercicio del famoso hidalgo\\ndon quijote de la mancha\\n'"
            ]
          },
          "metadata": {
            "tags": []
          },
          "execution_count": 6
        }
      ]
    },
    {
      "cell_type": "code",
      "metadata": {
        "colab_type": "code",
        "id": "5bJ0NsbCbupF",
        "colab": {}
      },
      "source": [
        "## TU CÓDIGO AQUÍ\n",
        "chars=sorted(set(text))\n",
        "char_indices = dict((chars[index],index) for index in range(len(chars)))\n",
        "indice_char = {v: k for k, v in char_indices.items()}"
      ],
      "execution_count": 0,
      "outputs": []
    },
    {
      "cell_type": "code",
      "metadata": {
        "id": "TmtdffREKU67",
        "colab_type": "code",
        "outputId": "335c2fd1-717c-4152-9c97-0ade5cf9ce27",
        "colab": {
          "base_uri": "https://localhost:8080/",
          "height": 92
        }
      },
      "source": [
        "print(len(chars))\n",
        "print(indice_char)\n",
        "print(char_indices)"
      ],
      "execution_count": 0,
      "outputs": [
        {
          "output_type": "stream",
          "text": [
            "61\n",
            "{0: '\\n', 1: ' ', 2: '!', 3: '\"', 4: \"'\", 5: '(', 6: ')', 7: ',', 8: '-', 9: '.', 10: '0', 11: '1', 12: '2', 13: '3', 14: '4', 15: '5', 16: '6', 17: '7', 18: ':', 19: ';', 20: '?', 21: ']', 22: 'a', 23: 'b', 24: 'c', 25: 'd', 26: 'e', 27: 'f', 28: 'g', 29: 'h', 30: 'i', 31: 'j', 32: 'l', 33: 'm', 34: 'n', 35: 'o', 36: 'p', 37: 'q', 38: 'r', 39: 's', 40: 't', 41: 'u', 42: 'v', 43: 'w', 44: 'x', 45: 'y', 46: 'z', 47: '¡', 48: '«', 49: '»', 50: '¿', 51: 'à', 52: 'á', 53: 'é', 54: 'í', 55: 'ï', 56: 'ñ', 57: 'ó', 58: 'ù', 59: 'ú', 60: 'ü'}\n",
            "{'\\n': 0, ' ': 1, '!': 2, '\"': 3, \"'\": 4, '(': 5, ')': 6, ',': 7, '-': 8, '.': 9, '0': 10, '1': 11, '2': 12, '3': 13, '4': 14, '5': 15, '6': 16, '7': 17, ':': 18, ';': 19, '?': 20, ']': 21, 'a': 22, 'b': 23, 'c': 24, 'd': 25, 'e': 26, 'f': 27, 'g': 28, 'h': 29, 'i': 30, 'j': 31, 'l': 32, 'm': 33, 'n': 34, 'o': 35, 'p': 36, 'q': 37, 'r': 38, 's': 39, 't': 40, 'u': 41, 'v': 42, 'w': 43, 'x': 44, 'y': 45, 'z': 46, '¡': 47, '«': 48, '»': 49, '¿': 50, 'à': 51, 'á': 52, 'é': 53, 'í': 54, 'ï': 55, 'ñ': 56, 'ó': 57, 'ù': 58, 'ú': 59, 'ü': 60}\n"
          ],
          "name": "stdout"
        }
      ]
    },
    {
      "cell_type": "markdown",
      "metadata": {
        "colab_type": "text",
        "id": "Y_B4AWo0ElwA"
      },
      "source": [
        "#### 2.2. Obtención de secuencias de entrada y carácter a predecir\n",
        "\n",
        "Ahora, vamos a obtener las secuencias de entrada en formato texto y los correspondientes caracteres a predecir. Para ello, recorrer el texto completo leído anteriormente, obteniendo una secuencia de SEQ_LENGTH caracteres y el siguiente caracter a predecir. Una vez hecho, desplazarse un carácter a la izquierda y hacer lo mismo para obtener una nueva secuencia y predicción. Guardar las secuencias en una variable ***sequences*** y los caracteres a predecir en una variable ***next_chars***.\n",
        "\n",
        "Por ejemplo, si el texto fuera \"Don Quijote\" y SEQ_LENGTH fuese 5, tendríamos\n",
        "\n",
        "* *sequences* = [\"Don Q\", \"on Qu\", \"n Qui\", \" Quij\", \"Quijo\", \"uijot\"]\n",
        "* *next_chars* = ['u', 'i', 'j', 'o', 't', 'e']"
      ]
    },
    {
      "cell_type": "code",
      "metadata": {
        "id": "pfkuHqzTKU7y",
        "colab_type": "code",
        "outputId": "41f6adee-cdba-450d-853e-26ed1670617c",
        "colab": {
          "base_uri": "https://localhost:8080/",
          "height": 54
        }
      },
      "source": [
        "#print(text[0:33])\n",
        "print(text[0:30])\n",
        "print(text[30])"
      ],
      "execution_count": 0,
      "outputs": [
        {
          "output_type": "stream",
          "text": [
            "capítulo primero. que trata de\n",
            " \n"
          ],
          "name": "stdout"
        }
      ]
    },
    {
      "cell_type": "code",
      "metadata": {
        "id": "7--rZ043KU8N",
        "colab_type": "code",
        "colab": {}
      },
      "source": [
        "pru =[]"
      ],
      "execution_count": 0,
      "outputs": []
    },
    {
      "cell_type": "code",
      "metadata": {
        "id": "of9rX7CDKU9i",
        "colab_type": "code",
        "outputId": "04bb5d4c-da2a-42ea-a642-23a7ef0d2f48",
        "colab": {
          "base_uri": "https://localhost:8080/",
          "height": 54
        }
      },
      "source": [
        "print(len(pru))\n",
        "pru.append(text[30])\n",
        "print(pru)"
      ],
      "execution_count": 0,
      "outputs": [
        {
          "output_type": "stream",
          "text": [
            "0\n",
            "[' ']\n"
          ],
          "name": "stdout"
        }
      ]
    },
    {
      "cell_type": "code",
      "metadata": {
        "colab_type": "code",
        "id": "NslxhnnDK6uA",
        "colab": {}
      },
      "source": [
        "# Definimos el tamaño de las secuencias. Puedes dejar este valor por defecto.\n",
        "SEQ_LENGTH = 30\n",
        "\n",
        "sequences = []\n",
        "next_chars = []\n",
        "\n",
        "## TU CÓDIGO AQUÍ\n",
        "# Realizar un for de 0 hasta tamaño len - seq_length.\n",
        "for i in range(0,len(text)-SEQ_LENGTH):\n",
        "    sequences.append(text[i:i+SEQ_LENGTH])\n",
        "    next_chars.append(text[i+SEQ_LENGTH])\n",
        "# Llenar sequences y next_chars .append..\n"
      ],
      "execution_count": 0,
      "outputs": []
    },
    {
      "cell_type": "code",
      "metadata": {
        "id": "8eCrLevAKU-d",
        "colab_type": "code",
        "outputId": "9d245a8e-b0ff-452f-b45a-ec7221415380",
        "colab": {
          "base_uri": "https://localhost:8080/",
          "height": 74
        }
      },
      "source": [
        "print(sequences[0:7])\n",
        "print(next_chars[0:7])"
      ],
      "execution_count": 0,
      "outputs": [
        {
          "output_type": "stream",
          "text": [
            "['capítulo primero. que trata de', 'apítulo primero. que trata de ', 'pítulo primero. que trata de l', 'ítulo primero. que trata de la', 'tulo primero. que trata de la ', 'ulo primero. que trata de la c', 'lo primero. que trata de la co']\n",
            "[' ', 'l', 'a', ' ', 'c', 'o', 'n']\n"
          ],
          "name": "stdout"
        }
      ]
    },
    {
      "cell_type": "markdown",
      "metadata": {
        "colab_type": "text",
        "id": "1Y3AmjYtHdLJ"
      },
      "source": [
        "Indicar el tamaño del training set que acabamos de generar."
      ]
    },
    {
      "cell_type": "code",
      "metadata": {
        "colab_type": "code",
        "id": "WVWqKxFcbwTu",
        "outputId": "13806b24-9afb-45fc-8f8d-f903c4729373",
        "colab": {
          "base_uri": "https://localhost:8080/",
          "height": 35
        }
      },
      "source": [
        "## TU CÓDIGO AQUÍ\n",
        "print(\"Tamaño de sequencias : \",len(sequences),\"Tamaño de los siguientes caracteres : \",len(next_chars))\n",
        "# Tamaño sequences"
      ],
      "execution_count": 0,
      "outputs": [
        {
          "output_type": "stream",
          "text": [
            "Tamaño de sequencias :  2071168 Tamaño de los siguientes caracteres :  2071168\n"
          ],
          "name": "stdout"
        }
      ]
    },
    {
      "cell_type": "markdown",
      "metadata": {
        "colab_type": "text",
        "id": "goGQkKcwpLRJ"
      },
      "source": [
        "Como el Quijote es muy largo y tenemos muchas secuencias, podríamos encontrar problemas de memoria. Por ello, vamos a elegir un número máximo de ellas. Si estás corriendo esto localmente y tienes problemas de memoria, puedes reducir el tamaño aún más, pero ten cuidado porque, a menos datos, peor calidad del modelo."
      ]
    },
    {
      "cell_type": "code",
      "metadata": {
        "id": "gF_IGFEkKU_i",
        "colab_type": "code",
        "outputId": "1c0ba26e-1106-4982-995e-90eff431d570",
        "colab": {
          "base_uri": "https://localhost:8080/",
          "height": 35
        }
      },
      "source": [
        "MAX_SEQUENCES = 500000\n",
        "\n",
        "perm = np.random.permutation(len(sequences)) #Permutar aleatoriamente una secuencia, o devolver un rango permutado.\n",
        "sequences, next_chars = np.array(sequences), np.array(next_chars) \n",
        "sequences, next_chars = sequences[perm], next_chars[perm]\n",
        "sequences, next_chars = list(sequences[:MAX_SEQUENCES]), list(next_chars[:MAX_SEQUENCES])\n",
        "\n",
        "print(len(sequences))"
      ],
      "execution_count": 0,
      "outputs": [
        {
          "output_type": "stream",
          "text": [
            "500000\n"
          ],
          "name": "stdout"
        }
      ]
    },
    {
      "cell_type": "markdown",
      "metadata": {
        "colab_type": "text",
        "id": "4FzgtAbPIs6f"
      },
      "source": [
        "#### 2.3. Obtención de input X y output y para el modelo\n",
        "\n",
        "Finalmente, a partir de los datos de entrenamiento que hemos generado vamos a crear los arrays de datos X e y que pasaremos a nuestro modelo.\n",
        "\n",
        "Para ello, vamos a utilizar *one-hot encoding* para nuestros caracteres. Por ejemplo, si sólo tuviéramos 4 caracteres (a, b, c, d), las representaciones serían: (1, 0, 0, 0), (0, 1, 0, 0), (0, 0, 1, 0) y (0, 0, 0, 1).\n",
        "\n",
        "De este modo, **X** tendrá shape *(num_sequences, seq_length, num_chars)* e **y** tendrá shape *(num_sequences, num_chars)*. \n",
        "\n"
      ]
    },
    {
      "cell_type": "code",
      "metadata": {
        "colab_type": "code",
        "id": "zMBwZ9obNGNg",
        "outputId": "91f793d5-c854-4438-f7fa-115a6305f41c",
        "colab": {
          "base_uri": "https://localhost:8080/",
          "height": 54
        }
      },
      "source": [
        "NUM_CHARS = len(chars)  # Tu número de caracteres distintos aquí. Lo hecho en el 2.1\n",
        "NUM_SEQUENCES = len(sequences)\n",
        "X = np.zeros((NUM_SEQUENCES, SEQ_LENGTH, NUM_CHARS)) \n",
        "y = np.zeros((NUM_SEQUENCES, NUM_CHARS))\n",
        "\n",
        "## Tu código para rellenar X e y aquí. Pista: utilizar el diccionario de\n",
        "## chars a índices obtenido anteriormente junto con numpy. Por ejemplo,\n",
        "## si hacemos \n",
        "##     X[0, 1, char_to_indices['a']] = 1\n",
        "## estamos diciendo que para la segunda posición de la primera secuencia se\n",
        "## tiene una 'a'\n",
        "\n",
        "## TU CÓDIGO AQUÍ\n",
        "for i in range(len(sequences)):\n",
        "    for j in range (SEQ_LENGTH):\n",
        "        X[i, j, char_indices[sequences[i][j]]] = 1\n",
        "    y[i,char_indices[next_chars[i]]] = 1\n",
        "print(sequences[0][0])\n",
        "print(char_indices[sequences[0][0]])"
      ],
      "execution_count": 0,
      "outputs": [
        {
          "output_type": "stream",
          "text": [
            " \n",
            "1\n"
          ],
          "name": "stdout"
        }
      ]
    },
    {
      "cell_type": "code",
      "metadata": {
        "id": "tW1O5AUoKVAT",
        "colab_type": "code",
        "outputId": "56d60f5b-d550-4a12-dc30-7dbdeca3b3f6",
        "colab": {
          "base_uri": "https://localhost:8080/",
          "height": 127
        }
      },
      "source": [
        "print(X[0,0,:])\n",
        "print(y[0,:])"
      ],
      "execution_count": 0,
      "outputs": [
        {
          "output_type": "stream",
          "text": [
            "[0. 1. 0. 0. 0. 0. 0. 0. 0. 0. 0. 0. 0. 0. 0. 0. 0. 0. 0. 0. 0. 0. 0. 0.\n",
            " 0. 0. 0. 0. 0. 0. 0. 0. 0. 0. 0. 0. 0. 0. 0. 0. 0. 0. 0. 0. 0. 0. 0. 0.\n",
            " 0. 0. 0. 0. 0. 0. 0. 0. 0. 0. 0. 0. 0.]\n",
            "[0. 1. 0. 0. 0. 0. 0. 0. 0. 0. 0. 0. 0. 0. 0. 0. 0. 0. 0. 0. 0. 0. 0. 0.\n",
            " 0. 0. 0. 0. 0. 0. 0. 0. 0. 0. 0. 0. 0. 0. 0. 0. 0. 0. 0. 0. 0. 0. 0. 0.\n",
            " 0. 0. 0. 0. 0. 0. 0. 0. 0. 0. 0. 0. 0.]\n"
          ],
          "name": "stdout"
        }
      ]
    },
    {
      "cell_type": "markdown",
      "metadata": {
        "colab_type": "text",
        "id": "IxeUxz3HPm3l"
      },
      "source": [
        "## 3. Definición del modelo y entrenamiento\n",
        "\n",
        "Una vez tenemos ya todo preparado, es hora de definir el modelo. Define un modelo que utilice una **LSTM** con **128 unidades internas**. Si bien el modelo puede definirse de una manera más compleja, para empezar debería bastar con una LSTM más una capa Dense con el *softmax* que predice el siguiente caracter a producir. Adam puede ser una buena elección de optimizador.\n",
        "\n",
        "Una vez el modelo esté definido, entrénalo un poco para asegurarte de que la loss es decreciente. No es necesario guardar la salida de este entrenamiento en el entregable final, ya que vamos a hacer el entrenamiento más informativo en el siguiente punto."
      ]
    },
    {
      "cell_type": "code",
      "metadata": {
        "colab_type": "code",
        "id": "MSw2j0btYWZs",
        "outputId": "94b791fb-9be0-4a7d-b1bd-f2a3b23527f7",
        "colab": {
          "base_uri": "https://localhost:8080/",
          "height": 421
        }
      },
      "source": [
        "## TU CÓDIGO AQUÍ\n",
        "model = keras.Sequential()\n",
        "\n",
        "model.add(keras.layers.LSTM(256,return_sequences=True,input_shape=(SEQ_LENGTH, NUM_CHARS)))\n",
        "model.add(keras.layers.BatchNormalization())\n",
        "model.add(keras.layers.LSTM(180,return_sequences=True))\n",
        "model.add(keras.layers.Dropout(0.2))\n",
        "model.add(keras.layers.LSTM(100))\n",
        "model.add(keras.layers.Dropout(0.5))\n",
        "#model.add(keras.layers.GlobalAveragePooling1D())\n",
        "model.add(keras.layers.Dense(NUM_CHARS, activation='softmax'))\n",
        "model.summary()"
      ],
      "execution_count": 0,
      "outputs": [
        {
          "output_type": "stream",
          "text": [
            "Model: \"sequential_20\"\n",
            "_________________________________________________________________\n",
            "Layer (type)                 Output Shape              Param #   \n",
            "=================================================================\n",
            "lstm_28 (LSTM)               (None, 30, 256)           325632    \n",
            "_________________________________________________________________\n",
            "batch_normalization_6 (Batch (None, 30, 256)           1024      \n",
            "_________________________________________________________________\n",
            "lstm_29 (LSTM)               (None, 30, 180)           314640    \n",
            "_________________________________________________________________\n",
            "dropout_7 (Dropout)          (None, 30, 180)           0         \n",
            "_________________________________________________________________\n",
            "lstm_30 (LSTM)               (None, 100)               112400    \n",
            "_________________________________________________________________\n",
            "dropout_8 (Dropout)          (None, 100)               0         \n",
            "_________________________________________________________________\n",
            "dense_31 (Dense)             (None, 61)                6161      \n",
            "=================================================================\n",
            "Total params: 759,857\n",
            "Trainable params: 759,345\n",
            "Non-trainable params: 512\n",
            "_________________________________________________________________\n"
          ],
          "name": "stdout"
        }
      ]
    },
    {
      "cell_type": "code",
      "metadata": {
        "id": "MARwg_9DKVBK",
        "colab_type": "code",
        "colab": {}
      },
      "source": [
        "model.compile(optimizer='adam', \n",
        "             loss='categorical_crossentropy', #la misma función de pérdida que CategoricalCrossentropy pero para problemas de dos clases\n",
        "             metrics=['accuracy'])"
      ],
      "execution_count": 0,
      "outputs": []
    },
    {
      "cell_type": "code",
      "metadata": {
        "id": "lAY6tO4KKVBS",
        "colab_type": "code",
        "outputId": "e951d522-aabe-411d-b501-45eb0425f6af",
        "colab": {
          "base_uri": "https://localhost:8080/",
          "height": 1000
        }
      },
      "source": [
        "history = model.fit(X,\n",
        "                   y,\n",
        "                   epochs=40,\n",
        "                   batch_size=1024*16)"
      ],
      "execution_count": 0,
      "outputs": [
        {
          "output_type": "stream",
          "text": [
            "Epoch 1/40\n",
            "500000/500000 [==============================] - 29s 59us/step - loss: 3.3657 - accuracy: 0.1277\n",
            "Epoch 2/40\n",
            "500000/500000 [==============================] - 28s 57us/step - loss: 3.0042 - accuracy: 0.1924\n",
            "Epoch 3/40\n",
            "500000/500000 [==============================] - 28s 57us/step - loss: 2.6397 - accuracy: 0.2648\n",
            "Epoch 4/40\n",
            "500000/500000 [==============================] - 28s 57us/step - loss: 2.4306 - accuracy: 0.2949\n",
            "Epoch 5/40\n",
            "500000/500000 [==============================] - 28s 57us/step - loss: 2.3299 - accuracy: 0.3151\n",
            "Epoch 6/40\n",
            "500000/500000 [==============================] - 28s 57us/step - loss: 2.2597 - accuracy: 0.3294\n",
            "Epoch 7/40\n",
            "500000/500000 [==============================] - 28s 57us/step - loss: 2.2044 - accuracy: 0.3422\n",
            "Epoch 8/40\n",
            "500000/500000 [==============================] - 28s 57us/step - loss: 2.1548 - accuracy: 0.3549\n",
            "Epoch 9/40\n",
            "500000/500000 [==============================] - 28s 57us/step - loss: 2.1119 - accuracy: 0.3660\n",
            "Epoch 10/40\n",
            "500000/500000 [==============================] - 28s 57us/step - loss: 2.0756 - accuracy: 0.3750\n",
            "Epoch 11/40\n",
            "500000/500000 [==============================] - 28s 57us/step - loss: 2.0435 - accuracy: 0.3841\n",
            "Epoch 12/40\n",
            "500000/500000 [==============================] - 28s 57us/step - loss: 2.0138 - accuracy: 0.3929\n",
            "Epoch 13/40\n",
            "500000/500000 [==============================] - 28s 57us/step - loss: 1.9865 - accuracy: 0.4008\n",
            "Epoch 14/40\n",
            "500000/500000 [==============================] - 28s 57us/step - loss: 1.9601 - accuracy: 0.4079\n",
            "Epoch 15/40\n",
            "500000/500000 [==============================] - 29s 57us/step - loss: 1.9355 - accuracy: 0.4163\n",
            "Epoch 16/40\n",
            "500000/500000 [==============================] - 28s 57us/step - loss: 1.9140 - accuracy: 0.4234\n",
            "Epoch 17/40\n",
            "500000/500000 [==============================] - 28s 57us/step - loss: 1.8917 - accuracy: 0.4299\n",
            "Epoch 18/40\n",
            "500000/500000 [==============================] - 29s 57us/step - loss: 1.8709 - accuracy: 0.4362\n",
            "Epoch 19/40\n",
            "500000/500000 [==============================] - 28s 57us/step - loss: 1.8514 - accuracy: 0.4425\n",
            "Epoch 20/40\n",
            "500000/500000 [==============================] - 28s 57us/step - loss: 1.8331 - accuracy: 0.4482\n",
            "Epoch 21/40\n",
            "500000/500000 [==============================] - 29s 57us/step - loss: 1.8134 - accuracy: 0.4538\n",
            "Epoch 22/40\n",
            "500000/500000 [==============================] - 28s 57us/step - loss: 1.7966 - accuracy: 0.4593\n",
            "Epoch 23/40\n",
            "500000/500000 [==============================] - 28s 57us/step - loss: 1.7831 - accuracy: 0.4643\n",
            "Epoch 24/40\n",
            "500000/500000 [==============================] - 28s 57us/step - loss: 1.7638 - accuracy: 0.4693\n",
            "Epoch 25/40\n",
            "500000/500000 [==============================] - 28s 57us/step - loss: 1.7492 - accuracy: 0.4729\n",
            "Epoch 26/40\n",
            "500000/500000 [==============================] - 28s 57us/step - loss: 1.7355 - accuracy: 0.4776\n",
            "Epoch 27/40\n",
            "500000/500000 [==============================] - 28s 57us/step - loss: 1.7203 - accuracy: 0.4819\n",
            "Epoch 28/40\n",
            "500000/500000 [==============================] - 28s 57us/step - loss: 1.7066 - accuracy: 0.4867\n",
            "Epoch 29/40\n",
            "500000/500000 [==============================] - 28s 57us/step - loss: 1.6940 - accuracy: 0.4893\n",
            "Epoch 30/40\n",
            "500000/500000 [==============================] - 28s 56us/step - loss: 1.6816 - accuracy: 0.4931\n",
            "Epoch 31/40\n",
            "500000/500000 [==============================] - 28s 56us/step - loss: 1.6690 - accuracy: 0.4969\n",
            "Epoch 32/40\n",
            "500000/500000 [==============================] - 28s 56us/step - loss: 1.6577 - accuracy: 0.5005\n",
            "Epoch 33/40\n",
            "500000/500000 [==============================] - 28s 56us/step - loss: 1.6458 - accuracy: 0.5041\n",
            "Epoch 34/40\n",
            "500000/500000 [==============================] - 28s 56us/step - loss: 1.6362 - accuracy: 0.5068\n",
            "Epoch 35/40\n",
            "500000/500000 [==============================] - 28s 56us/step - loss: 1.6256 - accuracy: 0.5094\n",
            "Epoch 36/40\n",
            "500000/500000 [==============================] - 28s 56us/step - loss: 1.6156 - accuracy: 0.5124\n",
            "Epoch 37/40\n",
            "500000/500000 [==============================] - 28s 56us/step - loss: 1.6052 - accuracy: 0.5151\n",
            "Epoch 38/40\n",
            "500000/500000 [==============================] - 28s 56us/step - loss: 1.5962 - accuracy: 0.5174\n",
            "Epoch 39/40\n",
            "500000/500000 [==============================] - 28s 56us/step - loss: 1.5875 - accuracy: 0.5207\n",
            "Epoch 40/40\n",
            "500000/500000 [==============================] - 28s 56us/step - loss: 1.5795 - accuracy: 0.5224\n"
          ],
          "name": "stdout"
        }
      ]
    },
    {
      "cell_type": "code",
      "metadata": {
        "id": "yG32KQ5ZKvzK",
        "colab_type": "code",
        "outputId": "03275d00-a8ae-412e-89b3-ae7c26c48d01",
        "colab": {
          "base_uri": "https://localhost:8080/",
          "height": 573
        }
      },
      "source": [
        "history_dict = history.history #A partir del objeto hystory lo guardamos para graficarlo\n",
        "history_dict.keys()\n",
        "#%matplotlib inline\n",
        "\n",
        "acc= history.history['accuracy']\n",
        "#val_acc = history.history['val_accuracy']\n",
        "loss=history.history['loss']\n",
        "#val_loss = history.history['val_loss']\n",
        "\n",
        "epochs = range(1, len(acc) +1)\n",
        "\n",
        "#bo is for blue dot\n",
        "plt.plot(epochs, loss, 'bo', label='Training loss')\n",
        "#b is for solid blue line\n",
        "#plt.plot(epochs, val_loss, 'b', label='Validation loss')\n",
        "plt.title('Training and validation loss')\n",
        "plt.xlabel('Epochs')\n",
        "plt.ylabel('Loss')\n",
        "plt.legend()\n",
        "plt.show()\n",
        "\n",
        "\n",
        "plt.clf()\n",
        "acc_values = history_dict['accuracy']\n",
        "#val_acc_values = history_dict['val_accuracy']\n",
        "\n",
        "#bo is for blue dot\n",
        "plt.plot(epochs, acc, 'bo', label='Training acc')\n",
        "#b is for solid blue line\n",
        "#plt.plot(epochs, val_acc, 'b', label='Validation acc')\n",
        "plt.title('Training and validation accuracy')\n",
        "plt.xlabel('Epochs')\n",
        "plt.ylabel('Accuracy')\n",
        "plt.legend()\n",
        "plt.show()"
      ],
      "execution_count": 0,
      "outputs": [
        {
          "output_type": "display_data",
          "data": {
            "image/png": "[encoded data removed]",
            "text/plain": [
              "<Figure size 432x288 with 1 Axes>"
            ]
          },
          "metadata": {
            "tags": [],
            "needs_background": "light"
          }
        },
        {
          "output_type": "display_data",
          "data": {
            "image/png": "[encoded data removed]",
            "text/plain": [
              "<Figure size 432x288 with 1 Axes>"
            ]
          },
          "metadata": {
            "tags": [],
            "needs_background": "light"
          }
        }
      ]
    },
    {
      "cell_type": "markdown",
      "metadata": {
        "colab_type": "text",
        "id": "3yUFHS4kHkyY"
      },
      "source": [
        "Para ver cómo evoluciona nuestro modelo del lenguaje, vamos a generar texto según va entrenando. Para ello, vamos a programar una función que, utilizando el modelo en su estado actual, genere texto, con la idea de ver cómo se va generando texto al entrenar cada epoch.\n",
        "\n",
        "En el código de abajo podemos ver una función auxiliar para obtener valores de una distribución multinomial. Esta función se usará para muestrear el siguiente carácter a utilizar según las probabilidades de la salida de softmax (en vez de tomar directamente el valor con la máxima probabilidad, obtenemos un valor aleatorio según la distribución de probabilidad dada por softmax, de modo que nuestros resultados serán más diversos, pero seguirán teniendo \"sentido\" ya que el modelo tenderá a seleccionar valores con más probabilidad).\n",
        "\n"
      ]
    },
    {
      "cell_type": "code",
      "metadata": {
        "colab_type": "code",
        "id": "LoGYpWOHd7Lr",
        "colab": {}
      },
      "source": [
        "def sample(probs, temperature=1.0):\n",
        "    \"\"\"Nos da el índice del elemento a elegir según la distribución\n",
        "    de probabilidad dada por probs.\n",
        "    \n",
        "    Args:\n",
        "      probs es la salida dada por una capa softmax:\n",
        "        probs = model.predict(x_to_predict)[0]\n",
        "      \n",
        "      temperature es un parámetro que nos permite obtener mayor\n",
        "        \"diversidad\" a la hora de obtener resultados. \n",
        "        \n",
        "        temperature = 1 nos da la distribución normal de softmax\n",
        "        0 < temperature < 1 hace que el sampling sea más conservador,\n",
        "          de modo que sampleamos cosas de las que estamos más seguros\n",
        "        temperature > 1 hace que los samplings sean más atrevidos,\n",
        "          eligiendo en más ocasiones clases con baja probabilidad.\n",
        "          Con esto, tenemos mayor diversidad pero se cometen más\n",
        "          errores.\n",
        "    \"\"\"\n",
        "    # Cast a float64 por motivos numéricos\n",
        "    probs = np.asarray(probs).astype('float64')\n",
        "    \n",
        "    # Hacemos logaritmo de probabilidades y aplicamos reducción\n",
        "    # por temperatura.\n",
        "    probs = np.log(probs) / temperature\n",
        "    \n",
        "    # Volvemos a aplicar exponencial y normalizamos de nuevo\n",
        "    exp_probs = np.exp(probs)\n",
        "    probs = exp_probs / np.sum(exp_probs)\n",
        "    \n",
        "    # Hacemos el sampling dadas las nuevas probabilidades\n",
        "    # de salida (ver doc. de np.random.multinomial)\n",
        "    samples = np.random.multinomial(1, probs, 1)\n",
        "    return np.argmax(samples)\n"
      ],
      "execution_count": 0,
      "outputs": []
    },
    {
      "cell_type": "code",
      "metadata": {
        "id": "u_he_XdCRbG3",
        "colab_type": "code",
        "outputId": "5a7243bd-c817-4e46-b799-765f27977e9d",
        "colab": {
          "base_uri": "https://localhost:8080/",
          "height": 35
        }
      },
      "source": [
        "pru = [indice_char[sample(model.predict(X[i].reshape(1,30,61))[0])] for i in range(10)]\n",
        "print(pru)"
      ],
      "execution_count": 0,
      "outputs": [
        {
          "output_type": "stream",
          "text": [
            "[' ', 's', ' ', 's', 's', 'd', 'o', 'o', 'n', 'a']\n"
          ],
          "name": "stdout"
        }
      ]
    },
    {
      "cell_type": "markdown",
      "metadata": {
        "colab_type": "text",
        "id": "3fejfZldd4ou"
      },
      "source": [
        "Utilizando la función anterior y el modelo entrenado, vamos a añadir un callback a nuestro modelo para que, según vaya entrenando, veamos los valores que resultan de generar textos con distintas temperaturas al acabar cada epoch.\n",
        "\n",
        "Para ello, abajo tenéis disponible el callback *on_epoch_end*. Esta función elige una secuencia de texto al azar en el texto disponible en la variable\n",
        "text y genera textos de longitud *GENERATED_TEXT_LENGTH* según las temperaturas en *TEMPERATURES_TO_TRY*, utilizando para ello la función *generate_text*.\n",
        "\n",
        "Completa la función *generate_text* de modo que utilicemos el modelo y la función sample para generar texto.\n",
        "\n",
        "NOTA: Cuando hagas model.predict, es aconsejable usar verbose=0 como argumento para evitar que la función imprima valores de salida."
      ]
    },
    {
      "cell_type": "code",
      "metadata": {
        "colab_type": "code",
        "id": "xOEZvnBXkODd",
        "colab": {}
      },
      "source": [
        "TEMPERATURES_TO_TRY = [0.2, 0.5, 1.0, 1.2]\n",
        "GENERATED_TEXT_LENGTH = 300\n",
        "\n",
        "def generate_text(seed_text, model, length, temperature=1):\n",
        "    \"\"\"Genera una secuencia de texto a partir de seed_text utilizando model.\n",
        "    \n",
        "    La secuencia tiene longitud length y el sampling se hace con la temperature\n",
        "    definida.\n",
        "    \"\"\"\n",
        "    \n",
        "    # Aquí guardaremos nuestro texto generado, que incluirá el\n",
        "    # texto origen\n",
        "    generated = seed_text\n",
        "    \n",
        "    # Utilizar el modelo en un bucle de manera que generemos\n",
        "    # carácter a carácter. Habrá que construir los valores de\n",
        "    # X_pred de manera similar a como hemos hecho arriba, salvo que\n",
        "    # aquí sólo se necesita una oración\n",
        "    # Nótese que el x que utilicemos tiene que irse actualizando con\n",
        "    # los caracteres que se van generando. La secuencia de entrada al\n",
        "    # modelo tiene que ser una secuencia de tamaño SEQ_LENGTH que\n",
        "    # incluya el último caracter predicho.\n",
        "    ### TU CÓDIGO AQUÍ\n",
        "\n",
        "    #print(len(generated))  #30\n",
        "    aux = \"\"\n",
        "    text_new = generated\n",
        "    for i in range(length):\n",
        "      new = np.zeros((1,len(text_new),NUM_CHARS))\n",
        "      for j in range (len(text_new)):\n",
        "        new[0,j,char_indices[text_new[j]]] = 1\n",
        "      char_new=indice_char[sample(model.predict(new,verbose=0)[0])]\n",
        "      text_new = text_new[1:] + char_new\n",
        "      aux += char_new\n",
        "    #print(new.shape) ##(1, 30, 61)\n",
        "    #print(char_new)\n",
        "    #print(\"Nuevo text : \",text_new)\n",
        "    #print(\"aux : \",aux)\n",
        "\n",
        "    ### FIN DE TU CÓDIGO\n",
        "    return generated + aux[1:]\n",
        "\n",
        "\n",
        "def on_epoch_end(epoch, logs):\n",
        "  print(\"\\n\\n\\n\")\n",
        "  \n",
        "  # Primero, seleccionamos una secuencia al azar para empezar a predecir\n",
        "  # a partir de ella\n",
        "  start_pos = random.randint(0, len(text) - SEQ_LENGTH - 1)\n",
        "  seed_text = text[start_pos:start_pos + SEQ_LENGTH]\n",
        "  for temperature in TEMPERATURES_TO_TRY:\n",
        "    print(\"------> Epoch: {} - Generando texto con temperature {}\".format(\n",
        "        epoch + 1, temperature))\n",
        "    \n",
        "    generated_text = generate_text(seed_text, model, \n",
        "                                   GENERATED_TEXT_LENGTH, temperature)\n",
        "    print(\"Seed: {}\".format(seed_text))\n",
        "    print(\"Texto generado: {}\".format(generated_text))\n",
        "    print()\n",
        "\n",
        "\n",
        "generation_callback = LambdaCallback(on_epoch_end=on_epoch_end)  "
      ],
      "execution_count": 0,
      "outputs": []
    },
    {
      "cell_type": "code",
      "metadata": {
        "id": "-im1-l0WR_OA",
        "colab_type": "code",
        "outputId": "90711920-7300-4e41-e107-6e74f3b1ce87",
        "colab": {
          "base_uri": "https://localhost:8080/",
          "height": 882
        }
      },
      "source": [
        "on_epoch_end(1,1)"
      ],
      "execution_count": 0,
      "outputs": [
        {
          "output_type": "stream",
          "text": [
            "\n",
            "\n",
            "\n",
            "\n",
            "------> Epoch: 2 - Generando texto con temperature 0.2\n",
            "Seed: l\n",
            "muchas serpientes, culebras \n",
            "Texto generado: l\n",
            "muchas serpientes, culebras ue fel y pojungo, que ey la que fueron a la lotar por entantos enegrecos;\n",
            "y por seuso;\n",
            "y coma.\n",
            "-no de esto que fino; don quijote, por lo de drego ji acabar, pués te cuerpo,\n",
            "se de que este\n",
            "so\n",
            "que duda acoda-, señor con su\n",
            "como se hijo, al entra: aventura de poernos con traer erranclinó de pensoso de\n",
            "\n",
            "------> Epoch: 2 - Generando texto con temperature 0.5\n",
            "Seed: l\n",
            "muchas serpientes, culebras \n",
            "Texto generado: l\n",
            "muchas serpientes, culebras elamos sé\n",
            "más deterlantes que al valto que diciendo las más te nuestros\n",
            "insiarnos espacíanos es un gardominos hablarque no es vodrió el ando el\n",
            "el guciene.\n",
            "\n",
            "obregunta don quijote, que moy renginamenera en la enga qaila de\n",
            "maltán de coníen mandahora el una portencia que los guas, grandes así se\n",
            "quec\n",
            "\n",
            "------> Epoch: 2 - Generando texto con temperature 1.0\n",
            "Seed: l\n",
            "muchas serpientes, culebras \n",
            "Texto generado: l\n",
            "muchas serpientes, culebras  deste combazo, y me imipudiere. dijo goantos,\n",
            "alginarensásén el loráncho él mesmo con la frán andante de leemor o todo sus trayon reves\n",
            "de cuando pedir la mí hasto en lo que quisere por sernas luces de sus caballos, esta eran -dijo tantole no que del dolantes y vestubados y decir el otro\n",
            "dieron. y\n",
            "\n",
            "------> Epoch: 2 - Generando texto con temperature 1.2\n",
            "Seed: l\n",
            "muchas serpientes, culebras \n",
            "Texto generado: l\n",
            "muchas serpientes, culebras  el costivo manees y cerginantos don\n",
            "languas tan oecidas raudas reves humonrando de haal y empondió tan mazua del curer de la señora, que a su hocirfante sin historias, son fueró pasado el encubridiera a la capa lingotes y las alicas, tenmrempreso, no me muquí de mido, que juliste don quijote-, no \n",
            "\n"
          ],
          "name": "stdout"
        }
      ]
    },
    {
      "cell_type": "markdown",
      "metadata": {
        "colab_type": "text",
        "id": "BSMYZ2JdrSJg"
      },
      "source": [
        "Entrena ahora tu modelo. No te olvides de añadir *generation_callback* a la lista de callbacks utilizados en fit(). Ya que las métricas de clasificación no son tan críticas aquí (no nos importa tanto acertar el carácter exacto, sino obtener una distribución de probabilidad adecuada), no es necesario monitorizar la accuracy ni usar validation data, si bien puedes añadirlos para asegurarte de que todo está en orden.\n"
      ]
    },
    {
      "cell_type": "code",
      "metadata": {
        "colab_type": "code",
        "id": "3oT7pNvjrP2e",
        "outputId": "da75255a-6ff4-4331-c181-e1dd015f1c98",
        "colab": {
          "base_uri": "https://localhost:8080/",
          "height": 1000
        }
      },
      "source": [
        "## TU CÓDIGO AQUÍ\n",
        "\n",
        "model.fit(X,y,epochs=10,batch_size=1024*16,\n",
        "          callbacks=[generation_callback])"
      ],
      "execution_count": 0,
      "outputs": [
        {
          "output_type": "stream",
          "text": [
            "Epoch 1/10\n",
            "500000/500000 [==============================] - 28s 56us/step - loss: 1.5695 - accuracy: 0.5253\n",
            "\n",
            "\n",
            "\n",
            "\n",
            "------> Epoch: 1 - Generando texto con temperature 0.2\n",
            "Seed: a desesperado por la\n",
            "repentina\n",
            "Texto generado: a desesperado por la\n",
            "repentinaa, a quien vuestre\n",
            "leglo que en vido, que le digo del que los tates, y algando de mumbre para los días, en el vio, señor, sino señor lo que iyendo de liente\n",
            "que en el bustado en pensante\n",
            "o minarle que estabo en ujome curta y más fejra con arbezaz de su venis, de ducudir en el yos\n",
            "de pasadera de\n",
            "suj\n",
            "\n",
            "------> Epoch: 1 - Generando texto con temperature 0.5\n",
            "Seed: a desesperado por la\n",
            "repentina\n",
            "Texto generado: a desesperado por la\n",
            "repentinaa,\n",
            "   purciugo que juica, por dentracientos de bovateo, como bloroso este megoré su lela otal, aquialles verpaste bu-rasé, y de callar otran padres\n",
            "dentiras éste en el calela, y tóno le todo me ciento, dijo, que verro en ajarata la mucha aherdipa, yo con incundar\n",
            "por alguna liñay. griaro catía\n",
            "   s\n",
            "\n",
            "------> Epoch: 1 - Generando texto con temperature 1.0\n",
            "Seed: a desesperado por la\n",
            "repentina\n",
            "Texto generado: a desesperado por la\n",
            "repentinale a\n",
            "todo otro tu leche; que: sabe en\n",
            "qué\n",
            "sanzo\n",
            "se hallación, que me encanga, todo uno\n",
            "tan sercice entino mi aquel vedado teda posible estrevo de\n",
            "cuabro, son torgo\n",
            "de volver en hegnara cuvel cocado, que le ponere dejó vuestro fiente las señas andenvilladoros,,\n",
            "porque; con hasto dudada de los amosta\n",
            "\n",
            "------> Epoch: 1 - Generando texto con temperature 1.2\n",
            "Seed: a desesperado por la\n",
            "repentina\n",
            "Texto generado: a desesperado por la\n",
            "repentinalo; y\n",
            "echallaron y\n",
            "gicenestese hala vestrado a rotran, que arbatanto tesdero\n",
            "la los romas:\n",
            ":\n",
            "vábíonsale enciertos de natorse, y, con caconza del voces catienso de quisa pasado lucentos náechos y mulles en todo las pobres; pues. señor inperte respondersir de daje, hasí todos uno bollada y camisisino\n",
            "\n",
            "Epoch 2/10\n",
            "500000/500000 [==============================] - 28s 56us/step - loss: 1.5623 - accuracy: 0.5274\n",
            "\n",
            "\n",
            "\n",
            "\n",
            "------> Epoch: 2 - Generando texto con temperature 0.2\n",
            "Seed:  de buscar algún lugar donde b\n",
            "Texto generado:  de buscar algún lugar donde bllencia las\n",
            "totosaciados, lo guca qué dejote\n",
            "maver, a este han la contenir cristiano estamál nuestro trienso, y con jurido rostro ¿los\n",
            "pies no le caballeres de entencito en los\n",
            "vopijas.\n",
            "\n",
            "-ya dijo, de\n",
            "mi mano éste\n",
            "se vida tiéndole yla; que en hocer\n",
            "saber gonces año,\n",
            "sancho ¿y estarque según vaba de \n",
            "\n",
            "------> Epoch: 2 - Generando texto con temperature 0.5\n",
            "Seed:  de buscar algún lugar donde b\n",
            "Texto generado:  de buscar algún lugar donde blquera, por omico de mucho, sé es mal ventero adello que calle se me el y a fuer, para haber lo que cielo, y en\n",
            "mended por alguna\n",
            "que crear a contra desmadente iblanto y don quijote. rebico, y,\n",
            "antes personas diradas. con, muchos bastas la mijodos que no quería que le cosa otra despetades la nervis\n",
            "\n",
            "------> Epoch: 2 - Generando texto con temperature 1.0\n",
            "Seed:  de buscar algún lugar donde b\n",
            "Texto generado:  de buscar algún lugar donde brbado libro, dicen, donde haa y\n",
            "artorja, altentigo, en cueno y desta él haber amor de gosto de nuerte y\n",
            "las buranse -respondia en este les entendió\n",
            "mentendos en consenta hay luces cosar a sancho a su dardo del listor tomar a\n",
            "tulcos, por vista la boza vaz como quesase, modiste mi sula que nuevas est\n",
            "\n",
            "------> Epoch: 2 - Generando texto con temperature 1.2\n",
            "Seed:  de buscar algún lugar donde b\n",
            "Texto generado:  de buscar algún lugar donde blgansea de tenían; cuando, décido que no estaña ser\n",
            "ducienza.\n",
            "\n",
            "perronando sancho carca de\n",
            "zaía pensancia y abritado\n",
            "del diis un luego, carrinco\n",
            "y veficado por año palimienmas no las mías monestedos, como esto es haciendo pasado y entrar esas de las negras de los vinos, que caminaban dolimer pueto d\n",
            "\n",
            "Epoch 3/10\n",
            "500000/500000 [==============================] - 28s 56us/step - loss: 1.5555 - accuracy: 0.5292\n",
            "\n",
            "\n",
            "\n",
            "\n",
            "------> Epoch: 3 - Generando texto con temperature 0.2\n",
            "Seed: os ojos y vee las cosas\n",
            "debajo\n",
            "Texto generado: os ojos y vee las cosas\n",
            "debajo; no muchos que quearen contra preguntarse lavardanza, nos sabensarcos, y como el recon, la lagrando que digó bordante\n",
            "con su hijas con tras tar cosas, sí, vuestras fin servidos, medos, estonca don quijote, cuon el fuiso, verdadera debazánrés. estamíale por en todo\n",
            "a mí a endónde a unos que entondi\n",
            "\n",
            "------> Epoch: 3 - Generando texto con temperature 0.5\n",
            "Seed: os ojos y vee las cosas\n",
            "debajo\n",
            "Texto generado: os ojos y vee las cosas\n",
            "debajo de\n",
            "honres samigo que tan buenas que, me cual y sin són prensáenle la guara la cama., te,s en mío es orros contentos; y con la cupita y\n",
            "contra amor más de paricentes caballeres:\n",
            "\n",
            "-todo soy, no sán suermo caballero del atre lonago, samina libro que tal o. unó la ciucia nombre, pace no estar alegacha\n",
            "\n",
            "------> Epoch: 3 - Generando texto con temperature 1.0\n",
            "Seed: os ojos y vee las cosas\n",
            "debajo\n",
            "Texto generado: os ojos y vee las cosas\n",
            "debajo y tan donde la franga.\n",
            "   cuelarfación al oíño, y buen al masbertos otros. sillín, venerador de su vino tuerco, que pueda hacer el mundo para feter\n",
            "contar\n",
            "glitorias de la ladó odorró la grandipaipañes, tuenta de hodrante y milos espejos que\n",
            "impendaza más; y; y dice en vol ventó en almó de cabrigo \n",
            "\n",
            "------> Epoch: 3 - Generando texto con temperature 1.2\n",
            "Seed: os ojos y vee las cosas\n",
            "debajo\n",
            "Texto generado: os ojos y vee las cosas\n",
            "debajo se de duciendo, por las encírpares,\n",
            "señor que las pragues nos milgaron siémalas nuestros sobresenos havos pues de las negimesas aventantes que ise había agúnos, sandido las manos aun franción.\n",
            "   amistar a nancha con los sobres a favorcer de don quiisto de\n",
            "bien vencidos, vizsitan pongante, grandes\n",
            "\n",
            "Epoch 4/10\n",
            "500000/500000 [==============================] - 28s 56us/step - loss: 1.5462 - accuracy: 0.5318\n",
            "\n",
            "\n",
            "\n",
            "\n",
            "------> Epoch: 4 - Generando texto con temperature 0.2\n",
            "Seed: enido más próspera ventura que\n",
            "Texto generado: enido más próspera ventura quedecía, porque de vieneñas, en gelos en la comta del por pesadoo, cuando lo gupierron señoros, no me conquiera acertada llegarda, que abraja no vuestra decirtan una ausenza que me vuestra bien alvamo en la que sodreta\n",
            "y tal pasamos de don quijote, todo el toboso con el sumesmo aquella de dul vierio,\n",
            "\n",
            "------> Epoch: 4 - Generando texto con temperature 0.5\n",
            "Seed: enido más próspera ventura que\n",
            "Texto generado: enido más próspera ventura quea mi un modo; y desta en la plara de todo respondiérentus, que señale del cesa l brico, pues, y con don quijote, respondió\n",
            "la\n",
            "erpeza tan grante; pero de presante con verten en otra barca que me memosido que guirlado llamago,\n",
            "las apristas lativos elsonos podías no hay aendo que dame contra lugar don\n",
            "\n",
            "------> Epoch: 4 - Generando texto con temperature 1.0\n",
            "Seed: enido más próspera ventura que\n",
            "Texto generado: enido más próspera ventura queal\n",
            "vez los\n",
            "cabeen llamarias y mastemía del berlea, y es señoa y pasó\n",
            "muchas pregalas y deseruablas lención de por vuestra había muchos.\n",
            "tan en tulela ser yl parte para gran que le pudiero que lo labéricísito, carredamento lutara pesada que lo\n",
            "viemmo don quién dee cuedamente, y\n",
            "volgo perdo contido, \n",
            "\n",
            "------> Epoch: 4 - Generando texto con temperature 1.2\n",
            "Seed: enido más próspera ventura que\n",
            "Texto generado: enido más próspera ventura quehistoria que ha ganta la yerististad, que le; y yo, no puemente por bien odos que    que leguas de deventa a la\n",
            "lanzó a\n",
            "teminas.\n",
            "\n",
            "celapulas en mi un todo respondiese que, princemas   nujito por intento y\n",
            "cieien:\n",
            "\n",
            "-si contencia no desta ¿puesto todos les\n",
            "sentan algunas curaos hacer con su aobra del \n",
            "\n",
            "Epoch 5/10\n",
            "500000/500000 [==============================] - 28s 56us/step - loss: 1.5395 - accuracy: 0.5339\n",
            "\n",
            "\n",
            "\n",
            "\n",
            "------> Epoch: 5 - Generando texto con temperature 0.2\n",
            "Seed: cura, de quien ya\n",
            "iba aficiona\n",
            "Texto generado: cura, de quien ya\n",
            "iba aficiona tal bresto en él quesibno\n",
            "en configo que se seibra que está amamente rescornó de advirjeras, estenade, no quiesque de la verso.\n",
            " si había dicho, que todos hecha gener ciertas por tras buenas cartames.\n",
            "\n",
            "-quierá no a paseón\n",
            "ever quisé para de don quijote del puesto. pero dejara en a¿irete la zesería\n",
            "\n",
            "------> Epoch: 5 - Generando texto con temperature 0.5\n",
            "Seed: cura, de quien ya\n",
            "iba aficiona\n",
            "Texto generado: cura, de quien ya\n",
            "iba aficionate dios sancho por decel nuya tan como se istaver vengar.\n",
            "  nodro en el músoro\n",
            "ya necotraja en la cual se parece le desover un otras dos se cieridos\n",
            "sis\n",
            "cuves de mi íste heguos era yo despuesta que yo se seráí decéndre ni endio, con decir, sebarmante por qué laces.\n",
            "\n",
            "famalde tuarpanra que se propele\n",
            "\n",
            "------> Epoch: 5 - Generando texto con temperature 1.0\n",
            "Seed: cura, de quien ya\n",
            "iba aficiona\n",
            "Texto generado: cura, de quien ya\n",
            "iba aficionao el bocán, de tufen lo que yo me castel cual de que mesderesen el deseo de la vista a tener mejor la viese llana lo que este los embavaban, se lezan, si lo que todo maber al denejo, le\n",
            "diciendo\n",
            "   prirce.\n",
            "\n",
            "-que deja; uno la dejo don quijote: ¡ayó a! mestrón visto volazgicas la frina en ella femosu\n",
            "\n",
            "------> Epoch: 5 - Generando texto con temperature 1.2\n",
            "Seed: cura, de quien ya\n",
            "iba aficiona\n",
            "Texto generado: cura, de quien ya\n",
            "iba aficionao mostrar deseo esta cabeva, como no dijojes de ni volmisa escudieres, ¿como fue andes de\n",
            "la yerra, santas pincianas, por no rebulabos de él aquella la aviso\n",
            "don quijote.\n",
            "\n",
            "-él la\n",
            "hilló grancio, porque le halló que no ha que mivo gallo me\n",
            "don quijote serlamente;\n",
            "tigan\n",
            "quiere, que el gánes y estaba a\n",
            "\n",
            "Epoch 6/10\n",
            "500000/500000 [==============================] - 28s 56us/step - loss: 1.5313 - accuracy: 0.5360\n",
            "\n",
            "\n",
            "\n",
            "\n",
            "------> Epoch: 6 - Generando texto con temperature 0.2\n",
            "Seed: amo; y, como no las halló, est\n",
            "Texto generado: amo; y, como no las halló, ests que al\n",
            "más ricote aelmonados caballaras que suelidos\n",
            "ni, dorando que una ventura que serido que men señompor en los abeteres menteros de su abragiero que a mundos que, que yaba anzado con dustar en lacendal; y la nrasa las mientos, memorevos como no noes fuera me rata de la  como venía del parcie\n",
            "\n",
            "------> Epoch: 6 - Generando texto con temperature 0.5\n",
            "Seed: amo; y, como no las halló, est\n",
            "Texto generado: amo; y, como no las halló, estmos sulabo modo,\n",
            "porque mijoldos que del yasen\n",
            "los\n",
            "ogoros, al tiegen sirtas en la jula, con quien mi enconcedor?\n",
            "\n",
            "-el esto\n",
            "puento; y arando yo dejado del pedo.\n",
            "   anmino de\n",
            "un santo está arja y, donde aquel deshora merced sus solo\n",
            "vasillas, baja del am-ridor con él pedro? -respondió don quijote-, y\n",
            "\n",
            "------> Epoch: 6 - Generando texto con temperature 1.0\n",
            "Seed: amo; y, como no las halló, est\n",
            "Texto generado: amo; y, como no las halló, estba la gente duquerima que. salhó a otra mareco, estando, entramones, suelidor la cuerca, algro\n",
            "algraras\n",
            "hisno, de\n",
            "tener que nuelo ausento; curulada\n",
            "ùlamá con amor hasta como perdona, y se bella de aventuró a los\n",
            "bastan por noticia, no horiendo, una de sharo yo quepiera el había tento contento y cab\n",
            "\n",
            "------> Epoch: 6 - Generando texto con temperature 1.2\n",
            "Seed: amo; y, como no las halló, est\n",
            "Texto generado: amo; y, como no las halló, estcbuendo tesón -dijo sancho-, que todo esta delanta; era al siqueron más y cubrillo, no ni decernanse bien osás que rejo en allí,\n",
            "que a nado estíco por quiere una\n",
            "yo pinces esperanza que vencera,\n",
            "volveré los\n",
            "evaleras una otro\n",
            "una hacuado echollado lo puede\n",
            "las que el sí, para que suspirugos sobre de\n",
            "\n",
            "Epoch 7/10\n",
            "500000/500000 [==============================] - 28s 56us/step - loss: 1.5244 - accuracy: 0.5380\n",
            "\n",
            "\n",
            "\n",
            "\n",
            "------> Epoch: 7 - Generando texto con temperature 0.2\n",
            "Seed:  dos que\n",
            "hay, yo no conozco si\n",
            "Texto generado:  dos que\n",
            "hay, yo no conozco si\n",
            "grandezos y mondaron bien tallas casimillas ascos? lé mi tusponso penos pinímas, que no degan cantenios de ruderos de monto, y estaba en donde curarse suyer con los deseos tuvieron a techos\n",
            "teneros cortesos de\n",
            "la parecerle por discráltes, a yo por grantees herundado dejar de doraterse con los que \n",
            "\n",
            "------> Epoch: 7 - Generando texto con temperature 0.5\n",
            "Seed:  dos que\n",
            "hay, yo no conozco si\n",
            "Texto generado:  dos que\n",
            "hay, yo no conozco si\n",
            "truertos libros de\n",
            "laltan encabardaca, ni tan pobre más, \"mi\n",
            "bamos todos retiblos propes\n",
            "cenpos\n",
            "habierdelles, el que los clarellos, y dio a su groyo aquella se haque la ventera y asgidar nada precaos    no hapiciula y casadi! -respantamente y no higo, ventura con ella avortas y\n",
            "delsa\n",
            "helles, que d\n",
            "\n",
            "------> Epoch: 7 - Generando texto con temperature 1.0\n",
            "Seed:  dos que\n",
            "hay, yo no conozco si\n",
            "Texto generado:  dos que\n",
            "hay, yo no conozco sia mostraba y veda a otra\n",
            "tanta y puenta la\n",
            "cartas por no entría, para docinanza del zofroda la becado carza. habme que no\n",
            "estara nos suelas, a hallo los duchos de vinir los deneras, con los señoras, ni sin hacierto decía, finaldes y pasaciantes al cura de haber veñas de vsentas andades, fafose; san\n",
            "\n",
            "------> Epoch: 7 - Generando texto con temperature 1.2\n",
            "Seed:  dos que\n",
            "hay, yo no conozco si\n",
            "Texto generado:  dos que\n",
            "hay, yo no conozco si lugan, pero el ser y dejan y barral alcindo, vitiosa\n",
            "nuestro no ciele tormás y he bospazabo de quesa fresales, más que les escriaron tantos que estaba mismo ningudas penas cada valos, pues con que no me sayo por esperadada fuerte el corca\n",
            "gesto con aldar esta grandes; que\n",
            "descubrielonas lo que hle\n",
            "\n",
            "Epoch 8/10\n",
            "500000/500000 [==============================] - 28s 56us/step - loss: 1.5176 - accuracy: 0.5401\n",
            "\n",
            "\n",
            "\n",
            "\n",
            "------> Epoch: 8 - Generando texto con temperature 0.2\n",
            "Seed: l duque mi marido, en una casa\n",
            "Texto generado: l duque mi marido, en una casaque tiene aun\n",
            "soñas de las todos de los habían de dedicen\n",
            "dello.\n",
            "  una mefrise; que yo en corazares en el pededo; pero trales salircunaces, que, pero se diese que, ciero, le tirio, ella estuya tiemposimientos leencias de\n",
            "descuros cangas\n",
            "naspallas,\n",
            "zalantes bles. eso hallaño una grande\n",
            "y faltarpa ca\n",
            "\n",
            "------> Epoch: 8 - Generando texto con temperature 0.5\n",
            "Seed: l duque mi marido, en una casa\n",
            "Texto generado: l duque mi marido, en una casa que la he nóle lleco, portunación y quiente, esta de decir a cuado dineros, a no una cual, o que, beyo me\n",
            "ando no y derazándole había ya rodación de su sácema con sus yten¿ressos hadas de márices que alía. por lle. miró polabre ditárdare a ristorñas en uneva con españa, decir uno de licestos diero\n",
            "\n",
            "------> Epoch: 8 - Generando texto con temperature 1.0\n",
            "Seed: l duque mi marido, en una casa\n",
            "Texto generado: l duque mi marido, en una casade la veste ella a, desto amao camino de otras principlersas,\n",
            "debenderido de cortes bien no sez desde, nos aentas había teneblo, el reesombrar la señora; y el bien de pontar dsis había que habées estad comér caballeros, lo no de varélos descurazan el mal derechar; si vuese proyado tengazaos y sanch\n",
            "\n",
            "------> Epoch: 8 - Generando texto con temperature 1.2\n",
            "Seed: l duque mi marido, en una casa\n",
            "Texto generado: l duque mi marido, en una casaesta quiere otro lebrador, sin la\n",
            "cosecía a codicieron lalpos todos\n",
            "que sobre este la dio había\n",
            "fisto, pues a dorotar mastrarme del rapo, adelante en verdad del que tan sacar mandaron que tanto, allero trainguenta abrazar o, sino los cuales le descucedios, y mirellos en auno quen\n",
            "sancho que han sie\n",
            "\n",
            "Epoch 9/10\n",
            "500000/500000 [==============================] - 28s 56us/step - loss: 1.5121 - accuracy: 0.5415\n",
            "\n",
            "\n",
            "\n",
            "\n",
            "------> Epoch: 9 - Generando texto con temperature 0.2\n",
            "Seed: de la respuesta que de parte d\n",
            "Texto generado: de la respuesta que de parte d\n",
            "abuerna ventura, que escudiré a\n",
            "el deneos\n",
            "verdos, y los desmostiese grandedamiento y les llefamás.\n",
            "  \n",
            "escriró aponerme desosogrín por mar dentes por pesarias de ser una,\n",
            "viendo a los echozan, si mayo las dube fue de la ceta una alquelan? pero me sute querer herraje, y\n",
            "tan labraldad se respondió la\n",
            "\n",
            "------> Epoch: 9 - Generando texto con temperature 0.5\n",
            "Seed: de la respuesta que de parte d\n",
            "Texto generado: de la respuesta que de parte d angencio caquiéllos queda no\n",
            "vuestra beventeridores ni menestercio sancho, que no es quedo lotro con el reùudo, y dijo?\n",
            "  qiino\n",
            "males toda mentir se ejegenciantos a mi en ata de mis\n",
            "sagiados, pues sasancia su engracía, y sejezó; ¡musped hombre el buen tromedio decirsimacer en los laberosos, como e\n",
            "\n",
            "------> Epoch: 9 - Generando texto con temperature 1.0\n",
            "Seed: de la respuesta que de parte d\n",
            "Texto generado: de la respuesta que de parte d los nos dientes como acadeba, aundo dejado le camentinio don quijote puso que has luego de una en la\n",
            "tierra duquesa, desdijo: mucho, ardizó tiempo sabía ayomo, se conque tanto que quedrígones, y persona parté\n",
            "tu villente:\n",
            ")i decir víe ín ser comuntino, que tanto libro y viero desotro los yísíselo \n",
            "\n",
            "------> Epoch: 9 - Generando texto con temperature 1.2\n",
            "Seed: de la respuesta que de parte d\n",
            "Texto generado: de la respuesta que de parte dscajido silo se\n",
            "otron ristudirle perder\n",
            "despolida, el poco, a esto cempase uno a ella y quizáronle mi preventrarsidad con\n",
            "ellas\n",
            "os traimas que yo me idema que no quedarla\n",
            "ventera; y las tristadas,\n",
            "como tan vía buena fuerca éntes él camisureja de que se budas no se\n",
            "caballero despoldiban la muentaba \n",
            "\n",
            "Epoch 10/10\n",
            "500000/500000 [==============================] - 28s 56us/step - loss: 1.5059 - accuracy: 0.5434\n",
            "\n",
            "\n",
            "\n",
            "\n",
            "------> Epoch: 10 - Generando texto con temperature 0.2\n",
            "Seed: muchos de nosotros les parecía\n",
            "Texto generado: muchos de nosotros les parecíaos, sin dar.\n",
            "  que necre pies\n",
            "brazo sus\n",
            "señoros, llamaron carrasco; pero. ventible panza, en elomenter, como pera fuera\n",
            "y olvidado a pasabra, viendo, rey vuestra labradora, aunque si sería si esquilar a puede las histores, que está.\n",
            " a tenguo dar a oña pidie ida para de caballero fuera que no quier\n",
            "\n",
            "------> Epoch: 10 - Generando texto con temperature 0.5\n",
            "Seed: muchos de nosotros les parecía\n",
            "Texto generado: muchos de nosotros les parecía los drespandaress parecer?\n",
            "\n",
            "-recimo de que rivenza las delinazos de entramenceras cosas bodos, sugaron a partijo.\n",
            " reventió a entrar cuita, que mé\n",
            "la acuilla que nido valir de mi tal siese quiere amundo a más que sea cita, y, cardó\n",
            "de no de ver se gaala nuus partes y arresaliadas bien verdrarse es\n",
            "\n",
            "------> Epoch: 10 - Generando texto con temperature 1.0\n",
            "Seed: muchos de nosotros les parecía\n",
            "Texto generado: muchos de nosotros les parecía, mudo por\n",
            "sentenso, no cuando le debe lengii no sé sees soer aquella sus\n",
            "fuese del conténseros viede que temer; esta año su guarda,\n",
            "señor el aselevo se señor cuandole del bajel otro que ha de\n",
            "ñoma, que tú pies vorte. vuestra merced, alca la ajente rey el de galanícuntas a su contada. porque su azo\n",
            "\n",
            "------> Epoch: 10 - Generando texto con temperature 1.2\n",
            "Seed: muchos de nosotros les parecía\n",
            "Texto generado: muchos de nosotros les parecía que en podido\n",
            "el mel había estado tus basito de eran si\n",
            "apadiersa. ¿qué\n",
            "hiciera nuestra merced, estaca -respondió sancho, benegoste y otrállo y mayoso dispones cargulas vadas y ir fuero. don los juíos, a hallar con la que escribir:\n",
            "\n",
            "-ango no que yos nocveran y\n",
            "lobrosamiento el carito fuera, en gra\n",
            "\n"
          ],
          "name": "stdout"
        },
        {
          "output_type": "execute_result",
          "data": {
            "text/plain": [
              "<keras.callbacks.callbacks.History at 0x7f726ebfd208>"
            ]
          },
          "metadata": {
            "tags": []
          },
          "execution_count": 120
        }
      ]
    },
    {
      "cell_type": "markdown",
      "metadata": {
        "id": "3BpEWoL7t40f",
        "colab_type": "text"
      },
      "source": [
        "##############################################################################\n",
        "#################################################################################\n",
        "\n",
        "COMENTARIOS : \n",
        "  Con cada epoca es posible observar como el modelo va mejorando, yo he probado con dos tipos de arquitecturas de red neuronal y he dejando la que mejor resultados presenta, la primera solo con una capa de LSTM y la segunda con dos capas. \n",
        "\n",
        "  LA temperatura es subjetiva a veces es mejor con temperatura de 0.5 y otras veces de 1, pero al final creo que esto esta ajustado a cada epoca.\n",
        "\n",
        "  Otra anotacion importante es el el tamaño de la batch para el entrenamiento, yo he decidio utilizar un tamaño igual a 1024*16 = 16.384‬, que ha sido el que mejor resultados me presenta, asi como tambien me permite optimizar el uso de la GPU, ya que un entrenamiento completo me dura aproxiamadamente 15 minutos en colab. Este valor lo fui probando hasta optener el mejor (desde mi perspectiva).\n",
        "#############################################################################\n",
        "#############################################################################"
      ]
    },
    {
      "cell_type": "markdown",
      "metadata": {
        "colab_type": "text",
        "id": "pBbmz9DMhVhc"
      },
      "source": [
        "## Entregable\n",
        "\n",
        "Completa los apartados anteriores para entrenar modelos del lenguaje que sean capaces de generar texto con cierto sentido. Comentar los resultados obtenidos y cómo el modelo va mejorando época a época. Comentar las diferencias apreciadas al utilizar diferentes valores de temperatura. Entregar al menos la salida de un entrenamiento completo con los textos generados época a época.\n",
        "\n",
        "El objetivo no es conseguir generar pasajes literarios con coherencia, sino obtener lenguaje que se asemeje en cierta manera a lo visto en el texto original y donde las palabras sean reconocibles como construcciones en castellano. Como ejemplo de lo que se puede conseguir, este es el resultado de generar texto después de 10 epochs y con temperature 0.2:\n",
        "\n",
        "\n",
        "```\n",
        "-----> Epoch: 10 - Generando texto con temperature 0.2\n",
        "Seed: o le cautivaron y rindieron el\n",
        "Texto generado: o le cautivaron y rindieron el caballero de la caballería de la mano de la caballería del cual se le dijo:\n",
        "\n",
        "-¿quién es el verdad de la caballería de la caballería de la caballería de la caballería de la caballería, y me ha de habían de la mano que el caballero de la mano de la caballería. y que no se le habían de la mano de la c\n",
        "\n",
        "```\n",
        "\n",
        "Asimismo, se proponen los siguientes aspectos opcionales para conseguir nota extra:\n",
        "\n",
        "*   Experimentar con los textos de teatro en verso de Calderón de la Barca (¿es capaz el modelo de aprender las estructuras del teatro en verso?) o con alguno de los otros textos disponibles. También se puede probar con textos de vuestra elección.\n",
        "*   Experimentar con distintos valores de SEQ_LENGTH.\n",
        "*   Experimentar con los hiperparámetros del modelo o probar otro tipo de modelos como GRUs o *stacked* RNNs (RNNs apiladas).\n",
        "*   Experimentar utilizando embeddings en vez de representaciones one-hot.\n",
        "*   (Difícil) Entrenar un modelo secuencia a secuencia en vez de secuencia a carácter.\n",
        "\n",
        "\n"
      ]
    }
  ]
}